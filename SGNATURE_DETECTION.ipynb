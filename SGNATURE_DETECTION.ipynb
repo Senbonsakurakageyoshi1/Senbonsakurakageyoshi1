{
  "nbformat": 4,
  "nbformat_minor": 0,
  "metadata": {
    "colab": {
      "name": "SGNATURE_DETECTION.ipynb",
      "provenance": [],
      "collapsed_sections": [],
      "authorship_tag": "ABX9TyNZ0azeXoE/GYs+EjVNykM0",
      "include_colab_link": true
    },
    "kernelspec": {
      "name": "python3",
      "display_name": "Python 3"
    },
    "language_info": {
      "name": "python"
    }
  },
  "cells": [
    {
      "cell_type": "markdown",
      "metadata": {
        "id": "view-in-github",
        "colab_type": "text"
      },
      "source": [
        "<a href=\"https://colab.research.google.com/github/Senbonsakurakageyoshi1/Senbonsakurakageyoshi1/blob/main/SGNATURE_DETECTION.ipynb\" target=\"_parent\"><img src=\"https://colab.research.google.com/assets/colab-badge.svg\" alt=\"Open In Colab\"/></a>"
      ]
    },
    {
      "cell_type": "code",
      "execution_count": 2,
      "metadata": {
        "colab": {
          "base_uri": "https://localhost:8080/"
        },
        "id": "BneSeKbpMhz7",
        "outputId": "a13be7b8-f1c5-482b-80bb-cb54d5825315"
      },
      "outputs": [
        {
          "output_type": "stream",
          "name": "stdout",
          "text": [
            "\u001b[K     |████████████████████████████████| 60.5 MB 1.5 MB/s \n",
            "\u001b[31mERROR: pip's dependency resolver does not currently take into account all the packages that are installed. This behaviour is the source of the following dependency conflicts.\n",
            "albumentations 0.1.12 requires imgaug<0.2.7,>=0.2.5, but you have imgaug 0.2.9 which is incompatible.\u001b[0m\n",
            "\u001b[?25h"
          ]
        }
      ],
      "source": [
        "!apt-get -qq install -y libsm6 libxext6 && pip install -q -U opencv-python"
      ]
    },
    {
      "cell_type": "code",
      "source": [
        "!pip install matplotlib"
      ],
      "metadata": {
        "colab": {
          "base_uri": "https://localhost:8080/"
        },
        "id": "VTU03qz_M7gq",
        "outputId": "dbd5f68d-e2f8-446e-a3b5-05af59419f3a"
      },
      "execution_count": 3,
      "outputs": [
        {
          "output_type": "stream",
          "name": "stdout",
          "text": [
            "Requirement already satisfied: matplotlib in /usr/local/lib/python3.7/dist-packages (3.2.2)\n",
            "Requirement already satisfied: numpy>=1.11 in /usr/local/lib/python3.7/dist-packages (from matplotlib) (1.21.5)\n",
            "Requirement already satisfied: kiwisolver>=1.0.1 in /usr/local/lib/python3.7/dist-packages (from matplotlib) (1.4.2)\n",
            "Requirement already satisfied: cycler>=0.10 in /usr/local/lib/python3.7/dist-packages (from matplotlib) (0.11.0)\n",
            "Requirement already satisfied: pyparsing!=2.0.4,!=2.1.2,!=2.1.6,>=2.0.1 in /usr/local/lib/python3.7/dist-packages (from matplotlib) (3.0.8)\n",
            "Requirement already satisfied: python-dateutil>=2.1 in /usr/local/lib/python3.7/dist-packages (from matplotlib) (2.8.2)\n",
            "Requirement already satisfied: typing-extensions in /usr/local/lib/python3.7/dist-packages (from kiwisolver>=1.0.1->matplotlib) (4.1.1)\n",
            "Requirement already satisfied: six>=1.5 in /usr/local/lib/python3.7/dist-packages (from python-dateutil>=2.1->matplotlib) (1.15.0)\n"
          ]
        }
      ]
    },
    {
      "cell_type": "code",
      "source": [
        "import cv2\n",
        "import matplotlib.pyplot as plt\n",
        "from skimage import measure, morphology\n",
        "from skimage.color import label2rgb\n",
        "from skimage.measure import regionprops\n",
        "import numpy as np"
      ],
      "metadata": {
        "id": "xo64_TcnM1YI"
      },
      "execution_count": 4,
      "outputs": []
    },
    {
      "cell_type": "code",
      "source": [
        "#the parameters are used to remove small size connected pixels outliar \n",
        "constant_parameter_1 = 84\n",
        "constant_parameter_2 = 250\n",
        "constant_parameter_3 = 100\n",
        "\n",
        "# the parameter is used to remove big size connected pixels outliar\n",
        "constant_parameter_4 = 18\n",
        "\n",
        "# read the input image\n",
        "img = cv2.imread('/content/in1.jpg', 0)\n",
        "img = cv2.threshold(img, 127, 255, cv2.THRESH_BINARY)[1]  # ensure binary\n",
        "\n",
        "# connected component analysis by scikit-learn framework\n",
        "blobs = img > img.mean()\n",
        "blobs_labels = measure.label(blobs, background=1)\n",
        "image_label_overlay = label2rgb(blobs_labels, image=img)\n",
        "\n",
        "fig, ax = plt.subplots(figsize=(10, 6))\n",
        "\n",
        "'''\n",
        "# plot the connected components (for debugging)\n",
        "ax.imshow(image_label_overlay)\n",
        "ax.set_axis_off()\n",
        "plt.tight_layout()\n",
        "plt.show()\n",
        "'''\n",
        "\n",
        "the_biggest_component = 0\n",
        "total_area = 0\n",
        "counter = 0\n",
        "average = 0.0\n",
        "for region in regionprops(blobs_labels):\n",
        "    if (region.area > 10):\n",
        "        total_area = total_area + region.area\n",
        "        counter = counter + 1\n",
        "    # print region.area # (for debugging)\n",
        "    # take regions with large enough areas\n",
        "    if (region.area >= 250):\n",
        "        if (region.area > the_biggest_component):\n",
        "            the_biggest_component = region.area\n",
        "\n",
        "average = (total_area/counter)\n",
        "print(\"the_biggest_component: \" + str(the_biggest_component))\n",
        "print(\"average: \" + str(average))\n",
        "\n",
        "# experimental-based ratio calculation, modify it for your cases\n",
        "# a4_small_size_outliar_constant is used as a threshold value to remove connected outliar connected pixels\n",
        "# are smaller than a4_small_size_outliar_constant for A4 size scanned documents\n",
        "a4_small_size_outliar_constant = ((average/constant_parameter_1)*constant_parameter_2)+constant_parameter_3\n",
        "print(\"a4_small_size_outliar_constant: \" + str(a4_small_size_outliar_constant))\n",
        "\n",
        "# experimental-based ratio calculation, modify it for your cases\n",
        "# a4_big_size_outliar_constant is used as a threshold value to remove outliar connected pixels\n",
        "# are bigger than a4_big_size_outliar_constant for A4 size scanned documents\n",
        "a4_big_size_outliar_constant = a4_small_size_outliar_constant*constant_parameter_4\n",
        "print(\"a4_big_size_outliar_constant: \" + str(a4_big_size_outliar_constant))\n",
        "\n",
        "# remove the connected pixels are smaller than a4_small_size_outliar_constant\n",
        "pre_version = morphology.remove_small_objects(blobs_labels, a4_small_size_outliar_constant)\n",
        "# remove the connected pixels are bigger than threshold a4_big_size_outliar_constant \n",
        "# to get rid of undesired connected pixels such as table headers and etc.\n",
        "component_sizes = np.bincount(pre_version.ravel())\n",
        "too_small = component_sizes > (a4_big_size_outliar_constant)\n",
        "too_small_mask = too_small[pre_version]\n",
        "pre_version[too_small_mask] = 0\n",
        "# save the the pre-version which is the image is labelled with colors\n",
        "# as considering connected components\n",
        "plt.imsave('pre_version.png', pre_version)\n",
        "\n",
        "# read the pre-version\n",
        "img = cv2.imread('pre_version.png', 0)\n",
        "# ensure binary\n",
        "img = cv2.threshold(img, 0, 255, cv2.THRESH_BINARY_INV | cv2.THRESH_OTSU)[1]\n",
        "# save the the result\n",
        "cv2.imwrite(\"/content/outputs/output1.png\", img)"
      ],
      "metadata": {
        "id": "y3E40NqYPPHK"
      },
      "execution_count": null,
      "outputs": []
    }
  ]
}