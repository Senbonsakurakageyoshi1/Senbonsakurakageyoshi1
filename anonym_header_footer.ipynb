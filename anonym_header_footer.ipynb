{
  "nbformat": 4,
  "nbformat_minor": 0,
  "metadata": {
    "colab": {
      "name": "anonym_header_footer",
      "provenance": [],
      "authorship_tag": "ABX9TyM7QwZBBtg0zcBTdZ9tAWSp",
      "include_colab_link": true
    },
    "kernelspec": {
      "name": "python3",
      "display_name": "Python 3"
    },
    "language_info": {
      "name": "python"
    }
  },
  "cells": [
    {
      "cell_type": "markdown",
      "metadata": {
        "id": "view-in-github",
        "colab_type": "text"
      },
      "source": [
        "<a href=\"https://colab.research.google.com/github/Senbonsakurakageyoshi1/Senbonsakurakageyoshi1/blob/main/anonym_header_footer.ipynb\" target=\"_parent\"><img src=\"https://colab.research.google.com/assets/colab-badge.svg\" alt=\"Open In Colab\"/></a>"
      ]
    },
    {
      "cell_type": "code",
      "execution_count": 2,
      "metadata": {
        "colab": {
          "base_uri": "https://localhost:8080/"
        },
        "id": "PrgNOCx1ASNX",
        "outputId": "cf1d8f3e-44ad-424b-8c8f-627557c76b2b"
      },
      "outputs": [
        {
          "output_type": "stream",
          "name": "stdout",
          "text": [
            "Looking in indexes: https://pypi.org/simple, https://us-python.pkg.dev/colab-wheels/public/simple/\n",
            "Collecting python-docx\n",
            "  Downloading python-docx-0.8.11.tar.gz (5.6 MB)\n",
            "\u001b[K     |████████████████████████████████| 5.6 MB 14.8 MB/s \n",
            "\u001b[?25hRequirement already satisfied: lxml>=2.3.2 in /usr/local/lib/python3.7/dist-packages (from python-docx) (4.2.6)\n",
            "Building wheels for collected packages: python-docx\n",
            "  Building wheel for python-docx (setup.py) ... \u001b[?25l\u001b[?25hdone\n",
            "  Created wheel for python-docx: filename=python_docx-0.8.11-py3-none-any.whl size=184507 sha256=da4f882ec2b65a6469ce8a5488a780f00a16aafae980f2684e7b4261ec36fcb6\n",
            "  Stored in directory: /root/.cache/pip/wheels/f6/6f/b9/d798122a8b55b74ad30b5f52b01482169b445fbb84a11797a6\n",
            "Successfully built python-docx\n",
            "Installing collected packages: python-docx\n",
            "Successfully installed python-docx-0.8.11\n"
          ]
        }
      ],
      "source": [
        "!pip install  python-docx"
      ]
    },
    {
      "cell_type": "code",
      "source": [
        "import docx\n",
        "import os\n",
        "import re\n",
        "import string    \n",
        "import random"
      ],
      "metadata": {
        "id": "F9tkJZd2mdoZ"
      },
      "execution_count": 42,
      "outputs": []
    },
    {
      "cell_type": "code",
      "source": [
        "def paragraph_replace_text(paragraph, regex, replace_str):\n",
        "\n",
        "    while True:\n",
        "        text = paragraph.text\n",
        "        match = regex.search(text)\n",
        "        if not match:\n",
        "            break\n",
        "        runs = iter(paragraph.runs)\n",
        "        start, end = match.start(), match.end()\n",
        "\n",
        "        for run in runs:\n",
        "            run_len = len(run.text)\n",
        "            if start < run_len:\n",
        "                break\n",
        "            start, end = start - run_len, end - run_len\n",
        "\n",
        "    \n",
        "        run_text = run.text\n",
        "        run_len = len(run_text)\n",
        "        run.text = \"%s%s%s\" % (run_text[:start], replace_str, run_text[end:])\n",
        "        end -= run_len  \n",
        "\n",
        "        for run in runs:  \n",
        "            if end <= 0:\n",
        "                break\n",
        "            run_text = run.text\n",
        "            run_len = len(run_text)\n",
        "            run.text = run_text[end:]\n",
        "            end -= run_len\n",
        "\n",
        "    return paragraph"
      ],
      "metadata": {
        "id": "g8AkdRrCyBsi"
      },
      "execution_count": 43,
      "outputs": []
    },
    {
      "cell_type": "code",
      "source": [
        "def anonymise_header_foot(file,word):\n",
        "  '''anonymise the header of doc'''\n",
        "  document = docx.Document(file)\n",
        "  all_paras = document.paragraphs\n",
        "  sections = document.sections\n",
        "  regex = re.compile(word)\n",
        "  replace_str = ''.join(random.choices(string.ascii_lowercase , k = len(word)))\n",
        "  replace_str1 = ''.join(random.choices(string.ascii_lowercase , k = len(word)))\n",
        "  '''header'''\n",
        "  \n",
        "  for i, section in enumerate(sections):\n",
        "            header = section.header\n",
        "            header_para = header.paragraphs\n",
        "            for h_p in header_para:\n",
        "                print(f'en-tete : {h_p.text}')\n",
        "                paragraph_replace_text(h_p , regex, replace_str)\n",
        "         \n",
        "           \n",
        "  '''footer'''\n",
        "  for i, section in enumerate(sections):\n",
        "          \n",
        "            footer = section.footer            \n",
        "            footer_para = footer.paragraphs\n",
        "            for f_p in footer_para:\n",
        "                paragraph_replace_text(f_p , regex, replace_str1)\n",
        " \n",
        "  '''saving file'''\n",
        "  document.save('demo4.docx')\n"
      ],
      "metadata": {
        "id": "RUHCxONFnWyx"
      },
      "execution_count": 57,
      "outputs": []
    },
    {
      "cell_type": "code",
      "source": [
        "file = '/content/documents/doct_test1.docx'\n",
        "word='Ecole'"
      ],
      "metadata": {
        "id": "Wuf4gvpEphcQ"
      },
      "execution_count": 55,
      "outputs": []
    },
    {
      "cell_type": "code",
      "source": [
        "anonymise_header_foot(file,word)"
      ],
      "metadata": {
        "colab": {
          "base_uri": "https://localhost:8080/"
        },
        "id": "_YX6Pdj5phou",
        "outputId": "4c639b5b-4554-4cbf-c349-8d853ce7deae"
      },
      "execution_count": 56,
      "outputs": [
        {
          "output_type": "stream",
          "name": "stdout",
          "text": [
            "en-tete : Ecole Doctorale\n"
          ]
        }
      ]
    },
    {
      "cell_type": "code",
      "source": [
        ""
      ],
      "metadata": {
        "id": "VbVXXv69MGHi"
      },
      "execution_count": null,
      "outputs": []
    }
  ]
}