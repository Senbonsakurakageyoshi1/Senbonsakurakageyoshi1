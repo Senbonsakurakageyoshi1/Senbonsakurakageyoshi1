{
  "nbformat": 4,
  "nbformat_minor": 0,
  "metadata": {
    "colab": {
      "name": "financial _liberty",
      "provenance": [],
      "authorship_tag": "ABX9TyMg4Kz90QXTUiggePTm6aST",
      "include_colab_link": true
    },
    "kernelspec": {
      "name": "python3",
      "display_name": "Python 3"
    },
    "language_info": {
      "name": "python"
    }
  },
  "cells": [
    {
      "cell_type": "markdown",
      "metadata": {
        "id": "view-in-github",
        "colab_type": "text"
      },
      "source": [
        "<a href=\"https://colab.research.google.com/github/Senbonsakurakageyoshi1/Senbonsakurakageyoshi1/blob/main/financial__liberty.ipynb\" target=\"_parent\"><img src=\"https://colab.research.google.com/assets/colab-badge.svg\" alt=\"Open In Colab\"/></a>"
      ]
    },
    {
      "cell_type": "code",
      "execution_count": 41,
      "metadata": {
        "id": "Qj6TZOCaEgiP"
      },
      "outputs": [],
      "source": [
        "def financial_liberty(n):\n",
        "  '''il s'agit ici de creer des actifs financiers'''\n",
        "  return (0.10*n)"
      ]
    },
    {
      "cell_type": "code",
      "source": [
        "def long_term_epargn(n):\n",
        "  '''il s'agit ici de garder du fric au cas j'en aurais besoin il doit donc etre liquide'''\n",
        "  return (0.10*n)"
      ],
      "metadata": {
        "id": "NtAZuEQbE4pb"
      },
      "execution_count": 42,
      "outputs": []
    },
    {
      "cell_type": "code",
      "source": [
        "def personnal_development(n):\n",
        "  '''il s'agit ici de financer mes cours formations et livres'''\n",
        "  return (0.10*n)"
      ],
      "metadata": {
        "id": "hPWeBJqrFMtr"
      },
      "execution_count": 43,
      "outputs": []
    },
    {
      "cell_type": "code",
      "source": [
        "def current_account(n):\n",
        "  '''il s'agit ici de financer mes cours formations et livres'''\n",
        "  return (0.55*n)"
      ],
      "metadata": {
        "id": "V_Anb1p8FaCY"
      },
      "execution_count": 44,
      "outputs": []
    },
    {
      "cell_type": "code",
      "source": [
        "def hobbies(n):\n",
        "  '''il s'agit ici de financer mes cours formations et livres'''\n",
        "  return (0.10*n)"
      ],
      "metadata": {
        "id": "fVdKepvRFjTw"
      },
      "execution_count": 45,
      "outputs": []
    },
    {
      "cell_type": "code",
      "source": [
        "def donnation(n):\n",
        "  '''il s'agit ici de financer mes cours formations et livres'''\n",
        "  return (0.05*n)"
      ],
      "metadata": {
        "id": "bEUZvZJYFtGM"
      },
      "execution_count": 56,
      "outputs": []
    },
    {
      "cell_type": "code",
      "source": [
        "n = 60000"
      ],
      "metadata": {
        "id": "y-PMza_EF2B4"
      },
      "execution_count": 57,
      "outputs": []
    },
    {
      "cell_type": "code",
      "source": [
        "print(f'pour les actifs finaciers à créer tu as :{financial_liberty(n)} FCFA')"
      ],
      "metadata": {
        "colab": {
          "base_uri": "https://localhost:8080/"
        },
        "id": "W_DVIyfBF-eH",
        "outputId": "2bba22df-fd34-49d0-820a-b038046ea1dd"
      },
      "execution_count": 58,
      "outputs": [
        {
          "output_type": "stream",
          "name": "stdout",
          "text": [
            "pour les actifs finaciers à créer tu as :6000.0 FCFA\n"
          ]
        }
      ]
    },
    {
      "cell_type": "code",
      "source": [
        "print(f'ton epargne est de :{long_term_epargn(n)} FCFA')"
      ],
      "metadata": {
        "colab": {
          "base_uri": "https://localhost:8080/"
        },
        "id": "eaCmjrWjGUmc",
        "outputId": "7ef0f9b6-1343-443a-a17e-cd8a0538f3b5"
      },
      "execution_count": 59,
      "outputs": [
        {
          "output_type": "stream",
          "name": "stdout",
          "text": [
            "ton epargne est de :6000.0 FCFA\n"
          ]
        }
      ]
    },
    {
      "cell_type": "code",
      "source": [
        "print(f'pour ton developpement personnel tu as {personnal_development(n)} FCFA')"
      ],
      "metadata": {
        "colab": {
          "base_uri": "https://localhost:8080/"
        },
        "id": "LMsqFMMTGgQE",
        "outputId": "6c68fd46-5872-46d0-f79f-1062f811d521"
      },
      "execution_count": 60,
      "outputs": [
        {
          "output_type": "stream",
          "name": "stdout",
          "text": [
            "pour ton developpement personnel tu as 6000.0 FCFA\n"
          ]
        }
      ]
    },
    {
      "cell_type": "code",
      "source": [
        "print(f'pour ton compte courant tu as {current_account(n)} FCFA')"
      ],
      "metadata": {
        "colab": {
          "base_uri": "https://localhost:8080/"
        },
        "id": "u3rXhLj7GvZr",
        "outputId": "978a68d0-2823-4a7f-ccd8-5942bef4008d"
      },
      "execution_count": 61,
      "outputs": [
        {
          "output_type": "stream",
          "name": "stdout",
          "text": [
            "pour ton compte courant tu as 33000.0 FCFA\n"
          ]
        }
      ]
    },
    {
      "cell_type": "code",
      "source": [
        "print(f'pour te distraire tu as {hobbies(n)} FCFA')"
      ],
      "metadata": {
        "colab": {
          "base_uri": "https://localhost:8080/"
        },
        "id": "pmnXbGenHBiA",
        "outputId": "f0a54e8d-cff0-4d4c-ca02-c5dfa17d3b85"
      },
      "execution_count": 62,
      "outputs": [
        {
          "output_type": "stream",
          "name": "stdout",
          "text": [
            "pour te distraire tu as 6000.0 FCFA\n"
          ]
        }
      ]
    },
    {
      "cell_type": "code",
      "source": [
        "print(f'pour les dons tu as {donnation(n)} FCFA')"
      ],
      "metadata": {
        "colab": {
          "base_uri": "https://localhost:8080/"
        },
        "id": "0lm-hDwjHKpL",
        "outputId": "1ef496d9-c779-4996-eb5b-570342b53c72"
      },
      "execution_count": 63,
      "outputs": [
        {
          "output_type": "stream",
          "name": "stdout",
          "text": [
            "pour les dons tu as 3000.0 FCFA\n"
          ]
        }
      ]
    },
    {
      "cell_type": "code",
      "source": [
        "personnal_development(n)+hobbies(n)+current_account(n)+donnation(n)+long_term_epargn(n)+financial_liberty(n)"
      ],
      "metadata": {
        "colab": {
          "base_uri": "https://localhost:8080/"
        },
        "id": "wUP5ntIBH7eZ",
        "outputId": "d3c62d86-4172-4eba-c4ee-3651037af6a4"
      },
      "execution_count": 64,
      "outputs": [
        {
          "output_type": "execute_result",
          "data": {
            "text/plain": [
              "60000.0"
            ]
          },
          "metadata": {},
          "execution_count": 64
        }
      ]
    },
    {
      "cell_type": "code",
      "source": [
        ""
      ],
      "metadata": {
        "id": "bHtqmDIqIl4X"
      },
      "execution_count": 64,
      "outputs": []
    }
  ]
}