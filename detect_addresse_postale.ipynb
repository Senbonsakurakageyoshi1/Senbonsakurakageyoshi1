{
  "nbformat": 4,
  "nbformat_minor": 0,
  "metadata": {
    "colab": {
      "name": "detect_addresse_postale",
      "provenance": [],
      "include_colab_link": true
    },
    "kernelspec": {
      "name": "python3",
      "display_name": "Python 3"
    },
    "language_info": {
      "name": "python"
    }
  },
  "cells": [
    {
      "cell_type": "markdown",
      "metadata": {
        "id": "view-in-github",
        "colab_type": "text"
      },
      "source": [
        "<a href=\"https://colab.research.google.com/github/Senbonsakurakageyoshi1/Senbonsakurakageyoshi1/blob/main/detect_addresse_postale.ipynb\" target=\"_parent\"><img src=\"https://colab.research.google.com/assets/colab-badge.svg\" alt=\"Open In Colab\"/></a>"
      ]
    },
    {
      "cell_type": "code",
      "source": [
        "!pip install address-net"
      ],
      "metadata": {
        "id": "lDZhnBOc2rTS",
        "colab": {
          "base_uri": "https://localhost:8080/"
        },
        "outputId": "c6966e93-12b1-456d-ba0e-29a6eb95e05b"
      },
      "execution_count": null,
      "outputs": [
        {
          "output_type": "stream",
          "name": "stdout",
          "text": [
            "Looking in indexes: https://pypi.org/simple, https://us-python.pkg.dev/colab-wheels/public/simple/\n",
            "Collecting address-net\n",
            "  Downloading address-net-1.0.tar.gz (6.1 MB)\n",
            "\u001b[K     |████████████████████████████████| 6.1 MB 5.3 MB/s \n",
            "\u001b[?25hRequirement already satisfied: numpy in /usr/local/lib/python3.7/dist-packages (from address-net) (1.21.6)\n",
            "Building wheels for collected packages: address-net\n",
            "  Building wheel for address-net (setup.py) ... \u001b[?25l\u001b[?25hdone\n",
            "  Created wheel for address-net: filename=address_net-1.0-py3-none-any.whl size=6177214 sha256=268ff3602cc95f7ac73026deba91577ff7ac11564b2c6becb432df62711510b8\n",
            "  Stored in directory: /root/.cache/pip/wheels/c5/63/b7/46bf93272ba90859dbbc8d8bc73c7b5c98fb7d95560554612e\n",
            "Successfully built address-net\n",
            "Installing collected packages: address-net\n",
            "Successfully installed address-net-1.0\n"
          ]
        }
      ]
    },
    {
      "cell_type": "code",
      "source": [
        "pip install address-net[tf_gpu]"
      ],
      "metadata": {
        "colab": {
          "base_uri": "https://localhost:8080/"
        },
        "id": "Ml2koeQCtbM3",
        "outputId": "2005d957-5862-4f0b-f5ee-c602dd68d304"
      },
      "execution_count": null,
      "outputs": [
        {
          "output_type": "stream",
          "name": "stdout",
          "text": [
            "Looking in indexes: https://pypi.org/simple, https://us-python.pkg.dev/colab-wheels/public/simple/\n",
            "Requirement already satisfied: address-net[tf_gpu] in /usr/local/lib/python3.7/dist-packages (1.0)\n",
            "Requirement already satisfied: numpy in /usr/local/lib/python3.7/dist-packages (from address-net[tf_gpu]) (1.21.6)\n",
            "Collecting tensorflow-gpu>=1.12.0\n",
            "  Downloading tensorflow_gpu-2.9.1-cp37-cp37m-manylinux_2_17_x86_64.manylinux2014_x86_64.whl (511.7 MB)\n",
            "\u001b[K     |████████████████████████████████| 511.7 MB 5.9 kB/s \n",
            "\u001b[?25hRequirement already satisfied: libclang>=13.0.0 in /usr/local/lib/python3.7/dist-packages (from tensorflow-gpu>=1.12.0->address-net[tf_gpu]) (14.0.1)\n",
            "Requirement already satisfied: keras-preprocessing>=1.1.1 in /usr/local/lib/python3.7/dist-packages (from tensorflow-gpu>=1.12.0->address-net[tf_gpu]) (1.1.2)\n",
            "Requirement already satisfied: six>=1.12.0 in /usr/local/lib/python3.7/dist-packages (from tensorflow-gpu>=1.12.0->address-net[tf_gpu]) (1.15.0)\n",
            "Requirement already satisfied: opt-einsum>=2.3.2 in /usr/local/lib/python3.7/dist-packages (from tensorflow-gpu>=1.12.0->address-net[tf_gpu]) (3.3.0)\n",
            "Requirement already satisfied: astunparse>=1.6.0 in /usr/local/lib/python3.7/dist-packages (from tensorflow-gpu>=1.12.0->address-net[tf_gpu]) (1.6.3)\n",
            "Requirement already satisfied: grpcio<2.0,>=1.24.3 in /usr/local/lib/python3.7/dist-packages (from tensorflow-gpu>=1.12.0->address-net[tf_gpu]) (1.46.1)\n",
            "Requirement already satisfied: h5py>=2.9.0 in /usr/local/lib/python3.7/dist-packages (from tensorflow-gpu>=1.12.0->address-net[tf_gpu]) (3.1.0)\n",
            "Requirement already satisfied: tensorflow-io-gcs-filesystem>=0.23.1 in /usr/local/lib/python3.7/dist-packages (from tensorflow-gpu>=1.12.0->address-net[tf_gpu]) (0.26.0)\n",
            "Collecting gast<=0.4.0,>=0.2.1\n",
            "  Downloading gast-0.4.0-py3-none-any.whl (9.8 kB)\n",
            "Requirement already satisfied: wrapt>=1.11.0 in /usr/local/lib/python3.7/dist-packages (from tensorflow-gpu>=1.12.0->address-net[tf_gpu]) (1.14.1)\n",
            "Collecting keras<2.10.0,>=2.9.0rc0\n",
            "  Downloading keras-2.9.0-py2.py3-none-any.whl (1.6 MB)\n",
            "\u001b[K     |████████████████████████████████| 1.6 MB 37.9 MB/s \n",
            "\u001b[?25hCollecting flatbuffers<2,>=1.12\n",
            "  Downloading flatbuffers-1.12-py2.py3-none-any.whl (15 kB)\n",
            "Collecting tensorflow-estimator<2.10.0,>=2.9.0rc0\n",
            "  Downloading tensorflow_estimator-2.9.0-py2.py3-none-any.whl (438 kB)\n",
            "\u001b[K     |████████████████████████████████| 438 kB 48.3 MB/s \n",
            "\u001b[?25hRequirement already satisfied: termcolor>=1.1.0 in /usr/local/lib/python3.7/dist-packages (from tensorflow-gpu>=1.12.0->address-net[tf_gpu]) (1.1.0)\n",
            "Collecting tensorboard<2.10,>=2.9\n",
            "  Downloading tensorboard-2.9.0-py3-none-any.whl (5.8 MB)\n",
            "\u001b[K     |████████████████████████████████| 5.8 MB 35.6 MB/s \n",
            "\u001b[?25hRequirement already satisfied: packaging in /usr/local/lib/python3.7/dist-packages (from tensorflow-gpu>=1.12.0->address-net[tf_gpu]) (21.3)\n",
            "Requirement already satisfied: typing-extensions>=3.6.6 in /usr/local/lib/python3.7/dist-packages (from tensorflow-gpu>=1.12.0->address-net[tf_gpu]) (4.2.0)\n",
            "Requirement already satisfied: protobuf<3.20,>=3.9.2 in /usr/local/lib/python3.7/dist-packages (from tensorflow-gpu>=1.12.0->address-net[tf_gpu]) (3.17.3)\n",
            "Requirement already satisfied: setuptools in /usr/local/lib/python3.7/dist-packages (from tensorflow-gpu>=1.12.0->address-net[tf_gpu]) (57.4.0)\n",
            "Requirement already satisfied: absl-py>=1.0.0 in /usr/local/lib/python3.7/dist-packages (from tensorflow-gpu>=1.12.0->address-net[tf_gpu]) (1.0.0)\n",
            "Requirement already satisfied: google-pasta>=0.1.1 in /usr/local/lib/python3.7/dist-packages (from tensorflow-gpu>=1.12.0->address-net[tf_gpu]) (0.2.0)\n",
            "Requirement already satisfied: wheel<1.0,>=0.23.0 in /usr/local/lib/python3.7/dist-packages (from astunparse>=1.6.0->tensorflow-gpu>=1.12.0->address-net[tf_gpu]) (0.37.1)\n",
            "Requirement already satisfied: cached-property in /usr/local/lib/python3.7/dist-packages (from h5py>=2.9.0->tensorflow-gpu>=1.12.0->address-net[tf_gpu]) (1.5.2)\n",
            "Requirement already satisfied: tensorboard-data-server<0.7.0,>=0.6.0 in /usr/local/lib/python3.7/dist-packages (from tensorboard<2.10,>=2.9->tensorflow-gpu>=1.12.0->address-net[tf_gpu]) (0.6.1)\n",
            "Requirement already satisfied: markdown>=2.6.8 in /usr/local/lib/python3.7/dist-packages (from tensorboard<2.10,>=2.9->tensorflow-gpu>=1.12.0->address-net[tf_gpu]) (3.3.7)\n",
            "Requirement already satisfied: requests<3,>=2.21.0 in /usr/local/lib/python3.7/dist-packages (from tensorboard<2.10,>=2.9->tensorflow-gpu>=1.12.0->address-net[tf_gpu]) (2.23.0)\n",
            "Requirement already satisfied: tensorboard-plugin-wit>=1.6.0 in /usr/local/lib/python3.7/dist-packages (from tensorboard<2.10,>=2.9->tensorflow-gpu>=1.12.0->address-net[tf_gpu]) (1.8.1)\n",
            "Requirement already satisfied: google-auth-oauthlib<0.5,>=0.4.1 in /usr/local/lib/python3.7/dist-packages (from tensorboard<2.10,>=2.9->tensorflow-gpu>=1.12.0->address-net[tf_gpu]) (0.4.6)\n",
            "Requirement already satisfied: werkzeug>=1.0.1 in /usr/local/lib/python3.7/dist-packages (from tensorboard<2.10,>=2.9->tensorflow-gpu>=1.12.0->address-net[tf_gpu]) (1.0.1)\n",
            "Requirement already satisfied: google-auth<3,>=1.6.3 in /usr/local/lib/python3.7/dist-packages (from tensorboard<2.10,>=2.9->tensorflow-gpu>=1.12.0->address-net[tf_gpu]) (1.35.0)\n",
            "Requirement already satisfied: rsa<5,>=3.1.4 in /usr/local/lib/python3.7/dist-packages (from google-auth<3,>=1.6.3->tensorboard<2.10,>=2.9->tensorflow-gpu>=1.12.0->address-net[tf_gpu]) (4.8)\n",
            "Requirement already satisfied: pyasn1-modules>=0.2.1 in /usr/local/lib/python3.7/dist-packages (from google-auth<3,>=1.6.3->tensorboard<2.10,>=2.9->tensorflow-gpu>=1.12.0->address-net[tf_gpu]) (0.2.8)\n",
            "Requirement already satisfied: cachetools<5.0,>=2.0.0 in /usr/local/lib/python3.7/dist-packages (from google-auth<3,>=1.6.3->tensorboard<2.10,>=2.9->tensorflow-gpu>=1.12.0->address-net[tf_gpu]) (4.2.4)\n",
            "Requirement already satisfied: requests-oauthlib>=0.7.0 in /usr/local/lib/python3.7/dist-packages (from google-auth-oauthlib<0.5,>=0.4.1->tensorboard<2.10,>=2.9->tensorflow-gpu>=1.12.0->address-net[tf_gpu]) (1.3.1)\n",
            "Requirement already satisfied: importlib-metadata>=4.4 in /usr/local/lib/python3.7/dist-packages (from markdown>=2.6.8->tensorboard<2.10,>=2.9->tensorflow-gpu>=1.12.0->address-net[tf_gpu]) (4.11.3)\n",
            "Requirement already satisfied: zipp>=0.5 in /usr/local/lib/python3.7/dist-packages (from importlib-metadata>=4.4->markdown>=2.6.8->tensorboard<2.10,>=2.9->tensorflow-gpu>=1.12.0->address-net[tf_gpu]) (3.8.0)\n",
            "Requirement already satisfied: pyasn1<0.5.0,>=0.4.6 in /usr/local/lib/python3.7/dist-packages (from pyasn1-modules>=0.2.1->google-auth<3,>=1.6.3->tensorboard<2.10,>=2.9->tensorflow-gpu>=1.12.0->address-net[tf_gpu]) (0.4.8)\n",
            "Requirement already satisfied: idna<3,>=2.5 in /usr/local/lib/python3.7/dist-packages (from requests<3,>=2.21.0->tensorboard<2.10,>=2.9->tensorflow-gpu>=1.12.0->address-net[tf_gpu]) (2.10)\n",
            "Requirement already satisfied: chardet<4,>=3.0.2 in /usr/local/lib/python3.7/dist-packages (from requests<3,>=2.21.0->tensorboard<2.10,>=2.9->tensorflow-gpu>=1.12.0->address-net[tf_gpu]) (3.0.4)\n",
            "Requirement already satisfied: certifi>=2017.4.17 in /usr/local/lib/python3.7/dist-packages (from requests<3,>=2.21.0->tensorboard<2.10,>=2.9->tensorflow-gpu>=1.12.0->address-net[tf_gpu]) (2022.5.18.1)\n",
            "Requirement already satisfied: urllib3!=1.25.0,!=1.25.1,<1.26,>=1.21.1 in /usr/local/lib/python3.7/dist-packages (from requests<3,>=2.21.0->tensorboard<2.10,>=2.9->tensorflow-gpu>=1.12.0->address-net[tf_gpu]) (1.24.3)\n",
            "Requirement already satisfied: oauthlib>=3.0.0 in /usr/local/lib/python3.7/dist-packages (from requests-oauthlib>=0.7.0->google-auth-oauthlib<0.5,>=0.4.1->tensorboard<2.10,>=2.9->tensorflow-gpu>=1.12.0->address-net[tf_gpu]) (3.2.0)\n",
            "Requirement already satisfied: pyparsing!=3.0.5,>=2.0.2 in /usr/local/lib/python3.7/dist-packages (from packaging->tensorflow-gpu>=1.12.0->address-net[tf_gpu]) (3.0.9)\n",
            "Installing collected packages: tensorflow-estimator, tensorboard, keras, gast, flatbuffers, tensorflow-gpu\n",
            "  Attempting uninstall: tensorflow-estimator\n",
            "    Found existing installation: tensorflow-estimator 2.8.0\n",
            "    Uninstalling tensorflow-estimator-2.8.0:\n",
            "      Successfully uninstalled tensorflow-estimator-2.8.0\n",
            "  Attempting uninstall: tensorboard\n",
            "    Found existing installation: tensorboard 2.8.0\n",
            "    Uninstalling tensorboard-2.8.0:\n",
            "      Successfully uninstalled tensorboard-2.8.0\n",
            "  Attempting uninstall: keras\n",
            "    Found existing installation: keras 2.8.0\n",
            "    Uninstalling keras-2.8.0:\n",
            "      Successfully uninstalled keras-2.8.0\n",
            "  Attempting uninstall: gast\n",
            "    Found existing installation: gast 0.5.3\n",
            "    Uninstalling gast-0.5.3:\n",
            "      Successfully uninstalled gast-0.5.3\n",
            "  Attempting uninstall: flatbuffers\n",
            "    Found existing installation: flatbuffers 2.0\n",
            "    Uninstalling flatbuffers-2.0:\n",
            "      Successfully uninstalled flatbuffers-2.0\n",
            "\u001b[31mERROR: pip's dependency resolver does not currently take into account all the packages that are installed. This behaviour is the source of the following dependency conflicts.\n",
            "tensorflow 2.8.0+zzzcolab20220506162203 requires tf-estimator-nightly==2.8.0.dev2021122109, which is not installed.\n",
            "tensorflow 2.8.0+zzzcolab20220506162203 requires keras<2.9,>=2.8.0rc0, but you have keras 2.9.0 which is incompatible.\n",
            "tensorflow 2.8.0+zzzcolab20220506162203 requires tensorboard<2.9,>=2.8, but you have tensorboard 2.9.0 which is incompatible.\u001b[0m\n",
            "Successfully installed flatbuffers-1.12 gast-0.4.0 keras-2.9.0 tensorboard-2.9.0 tensorflow-estimator-2.9.0 tensorflow-gpu-2.9.1\n"
          ]
        }
      ]
    },
    {
      "cell_type": "code",
      "source": [
        "!pip install addresser"
      ],
      "metadata": {
        "id": "JIGwJUasyM8x",
        "colab": {
          "base_uri": "https://localhost:8080/"
        },
        "outputId": "a900a0ba-9964-43d2-fa4f-4d890a415d39"
      },
      "execution_count": null,
      "outputs": [
        {
          "output_type": "stream",
          "name": "stdout",
          "text": [
            "Looking in indexes: https://pypi.org/simple, https://us-python.pkg.dev/colab-wheels/public/simple/\n",
            "Collecting addresser\n",
            "  Downloading addresser-1.2.0-py3-none-any.whl (8.6 kB)\n",
            "Installing collected packages: addresser\n",
            "Successfully installed addresser-1.2.0\n"
          ]
        }
      ]
    },
    {
      "cell_type": "code",
      "source": [
        "!pip install spacy"
      ],
      "metadata": {
        "id": "UUN3xwRdY_YP",
        "colab": {
          "base_uri": "https://localhost:8080/"
        },
        "outputId": "e27af0e4-1e14-4972-e9a1-b03c36cb1bf3"
      },
      "execution_count": null,
      "outputs": [
        {
          "output_type": "stream",
          "name": "stdout",
          "text": [
            "Looking in indexes: https://pypi.org/simple, https://us-python.pkg.dev/colab-wheels/public/simple/\n",
            "Requirement already satisfied: spacy in /usr/local/lib/python3.7/dist-packages (2.2.4)\n",
            "Requirement already satisfied: wasabi<1.1.0,>=0.4.0 in /usr/local/lib/python3.7/dist-packages (from spacy) (0.9.1)\n",
            "Requirement already satisfied: blis<0.5.0,>=0.4.0 in /usr/local/lib/python3.7/dist-packages (from spacy) (0.4.1)\n",
            "Requirement already satisfied: cymem<2.1.0,>=2.0.2 in /usr/local/lib/python3.7/dist-packages (from spacy) (2.0.6)\n",
            "Requirement already satisfied: srsly<1.1.0,>=1.0.2 in /usr/local/lib/python3.7/dist-packages (from spacy) (1.0.5)\n",
            "Requirement already satisfied: catalogue<1.1.0,>=0.0.7 in /usr/local/lib/python3.7/dist-packages (from spacy) (1.0.0)\n",
            "Requirement already satisfied: tqdm<5.0.0,>=4.38.0 in /usr/local/lib/python3.7/dist-packages (from spacy) (4.64.0)\n",
            "Requirement already satisfied: thinc==7.4.0 in /usr/local/lib/python3.7/dist-packages (from spacy) (7.4.0)\n",
            "Requirement already satisfied: setuptools in /usr/local/lib/python3.7/dist-packages (from spacy) (57.4.0)\n",
            "Requirement already satisfied: plac<1.2.0,>=0.9.6 in /usr/local/lib/python3.7/dist-packages (from spacy) (1.1.3)\n",
            "Requirement already satisfied: preshed<3.1.0,>=3.0.2 in /usr/local/lib/python3.7/dist-packages (from spacy) (3.0.6)\n",
            "Requirement already satisfied: numpy>=1.15.0 in /usr/local/lib/python3.7/dist-packages (from spacy) (1.21.6)\n",
            "Requirement already satisfied: murmurhash<1.1.0,>=0.28.0 in /usr/local/lib/python3.7/dist-packages (from spacy) (1.0.7)\n",
            "Requirement already satisfied: requests<3.0.0,>=2.13.0 in /usr/local/lib/python3.7/dist-packages (from spacy) (2.23.0)\n",
            "Requirement already satisfied: importlib-metadata>=0.20 in /usr/local/lib/python3.7/dist-packages (from catalogue<1.1.0,>=0.0.7->spacy) (4.11.3)\n",
            "Requirement already satisfied: typing-extensions>=3.6.4 in /usr/local/lib/python3.7/dist-packages (from importlib-metadata>=0.20->catalogue<1.1.0,>=0.0.7->spacy) (4.2.0)\n",
            "Requirement already satisfied: zipp>=0.5 in /usr/local/lib/python3.7/dist-packages (from importlib-metadata>=0.20->catalogue<1.1.0,>=0.0.7->spacy) (3.8.0)\n",
            "Requirement already satisfied: certifi>=2017.4.17 in /usr/local/lib/python3.7/dist-packages (from requests<3.0.0,>=2.13.0->spacy) (2022.5.18.1)\n",
            "Requirement already satisfied: idna<3,>=2.5 in /usr/local/lib/python3.7/dist-packages (from requests<3.0.0,>=2.13.0->spacy) (2.10)\n",
            "Requirement already satisfied: chardet<4,>=3.0.2 in /usr/local/lib/python3.7/dist-packages (from requests<3.0.0,>=2.13.0->spacy) (3.0.4)\n",
            "Requirement already satisfied: urllib3!=1.25.0,!=1.25.1,<1.26,>=1.21.1 in /usr/local/lib/python3.7/dist-packages (from requests<3.0.0,>=2.13.0->spacy) (1.24.3)\n"
          ]
        }
      ]
    },
    {
      "cell_type": "code",
      "source": [
        "!pip install address-net[tf]"
      ],
      "metadata": {
        "colab": {
          "base_uri": "https://localhost:8080/"
        },
        "id": "FqmIhNnitTRX",
        "outputId": "02326fee-fa60-4106-adf5-3666d8345800"
      },
      "execution_count": null,
      "outputs": [
        {
          "output_type": "stream",
          "name": "stdout",
          "text": [
            "Looking in indexes: https://pypi.org/simple, https://us-python.pkg.dev/colab-wheels/public/simple/\n",
            "Requirement already satisfied: address-net[tf] in /usr/local/lib/python3.7/dist-packages (1.0)\n",
            "Requirement already satisfied: numpy in /usr/local/lib/python3.7/dist-packages (from address-net[tf]) (1.21.6)\n",
            "Requirement already satisfied: tensorflow>=1.12 in /usr/local/lib/python3.7/dist-packages (from address-net[tf]) (2.8.0+zzzcolab20220506162203)\n",
            "Requirement already satisfied: typing-extensions>=3.6.6 in /usr/local/lib/python3.7/dist-packages (from tensorflow>=1.12->address-net[tf]) (4.2.0)\n",
            "Requirement already satisfied: protobuf>=3.9.2 in /usr/local/lib/python3.7/dist-packages (from tensorflow>=1.12->address-net[tf]) (3.17.3)\n",
            "Collecting tensorboard<2.9,>=2.8\n",
            "  Downloading tensorboard-2.8.0-py3-none-any.whl (5.8 MB)\n",
            "\u001b[K     |████████████████████████████████| 5.8 MB 4.4 MB/s \n",
            "\u001b[?25hRequirement already satisfied: astunparse>=1.6.0 in /usr/local/lib/python3.7/dist-packages (from tensorflow>=1.12->address-net[tf]) (1.6.3)\n",
            "Requirement already satisfied: grpcio<2.0,>=1.24.3 in /usr/local/lib/python3.7/dist-packages (from tensorflow>=1.12->address-net[tf]) (1.46.1)\n",
            "Requirement already satisfied: keras-preprocessing>=1.1.1 in /usr/local/lib/python3.7/dist-packages (from tensorflow>=1.12->address-net[tf]) (1.1.2)\n",
            "Requirement already satisfied: flatbuffers>=1.12 in /usr/local/lib/python3.7/dist-packages (from tensorflow>=1.12->address-net[tf]) (1.12)\n",
            "Requirement already satisfied: gast>=0.2.1 in /usr/local/lib/python3.7/dist-packages (from tensorflow>=1.12->address-net[tf]) (0.4.0)\n",
            "Requirement already satisfied: tensorflow-io-gcs-filesystem>=0.23.1 in /usr/local/lib/python3.7/dist-packages (from tensorflow>=1.12->address-net[tf]) (0.26.0)\n",
            "Requirement already satisfied: setuptools in /usr/local/lib/python3.7/dist-packages (from tensorflow>=1.12->address-net[tf]) (57.4.0)\n",
            "Requirement already satisfied: opt-einsum>=2.3.2 in /usr/local/lib/python3.7/dist-packages (from tensorflow>=1.12->address-net[tf]) (3.3.0)\n",
            "Requirement already satisfied: six>=1.12.0 in /usr/local/lib/python3.7/dist-packages (from tensorflow>=1.12->address-net[tf]) (1.15.0)\n",
            "Requirement already satisfied: termcolor>=1.1.0 in /usr/local/lib/python3.7/dist-packages (from tensorflow>=1.12->address-net[tf]) (1.1.0)\n",
            "Requirement already satisfied: wrapt>=1.11.0 in /usr/local/lib/python3.7/dist-packages (from tensorflow>=1.12->address-net[tf]) (1.14.1)\n",
            "Requirement already satisfied: absl-py>=0.4.0 in /usr/local/lib/python3.7/dist-packages (from tensorflow>=1.12->address-net[tf]) (1.0.0)\n",
            "Requirement already satisfied: h5py>=2.9.0 in /usr/local/lib/python3.7/dist-packages (from tensorflow>=1.12->address-net[tf]) (3.1.0)\n",
            "Requirement already satisfied: libclang>=9.0.1 in /usr/local/lib/python3.7/dist-packages (from tensorflow>=1.12->address-net[tf]) (14.0.1)\n",
            "Collecting tf-estimator-nightly==2.8.0.dev2021122109\n",
            "  Downloading tf_estimator_nightly-2.8.0.dev2021122109-py2.py3-none-any.whl (462 kB)\n",
            "\u001b[K     |████████████████████████████████| 462 kB 57.9 MB/s \n",
            "\u001b[?25hRequirement already satisfied: google-pasta>=0.1.1 in /usr/local/lib/python3.7/dist-packages (from tensorflow>=1.12->address-net[tf]) (0.2.0)\n",
            "Collecting keras<2.9,>=2.8.0rc0\n",
            "  Downloading keras-2.8.0-py2.py3-none-any.whl (1.4 MB)\n",
            "\u001b[K     |████████████████████████████████| 1.4 MB 56.2 MB/s \n",
            "\u001b[?25hRequirement already satisfied: wheel<1.0,>=0.23.0 in /usr/local/lib/python3.7/dist-packages (from astunparse>=1.6.0->tensorflow>=1.12->address-net[tf]) (0.37.1)\n",
            "Requirement already satisfied: cached-property in /usr/local/lib/python3.7/dist-packages (from h5py>=2.9.0->tensorflow>=1.12->address-net[tf]) (1.5.2)\n",
            "Requirement already satisfied: google-auth-oauthlib<0.5,>=0.4.1 in /usr/local/lib/python3.7/dist-packages (from tensorboard<2.9,>=2.8->tensorflow>=1.12->address-net[tf]) (0.4.6)\n",
            "Requirement already satisfied: tensorboard-data-server<0.7.0,>=0.6.0 in /usr/local/lib/python3.7/dist-packages (from tensorboard<2.9,>=2.8->tensorflow>=1.12->address-net[tf]) (0.6.1)\n",
            "Requirement already satisfied: markdown>=2.6.8 in /usr/local/lib/python3.7/dist-packages (from tensorboard<2.9,>=2.8->tensorflow>=1.12->address-net[tf]) (3.3.7)\n",
            "Requirement already satisfied: requests<3,>=2.21.0 in /usr/local/lib/python3.7/dist-packages (from tensorboard<2.9,>=2.8->tensorflow>=1.12->address-net[tf]) (2.23.0)\n",
            "Requirement already satisfied: google-auth<3,>=1.6.3 in /usr/local/lib/python3.7/dist-packages (from tensorboard<2.9,>=2.8->tensorflow>=1.12->address-net[tf]) (1.35.0)\n",
            "Requirement already satisfied: tensorboard-plugin-wit>=1.6.0 in /usr/local/lib/python3.7/dist-packages (from tensorboard<2.9,>=2.8->tensorflow>=1.12->address-net[tf]) (1.8.1)\n",
            "Requirement already satisfied: werkzeug>=0.11.15 in /usr/local/lib/python3.7/dist-packages (from tensorboard<2.9,>=2.8->tensorflow>=1.12->address-net[tf]) (1.0.1)\n",
            "Requirement already satisfied: rsa<5,>=3.1.4 in /usr/local/lib/python3.7/dist-packages (from google-auth<3,>=1.6.3->tensorboard<2.9,>=2.8->tensorflow>=1.12->address-net[tf]) (4.8)\n",
            "Requirement already satisfied: cachetools<5.0,>=2.0.0 in /usr/local/lib/python3.7/dist-packages (from google-auth<3,>=1.6.3->tensorboard<2.9,>=2.8->tensorflow>=1.12->address-net[tf]) (4.2.4)\n",
            "Requirement already satisfied: pyasn1-modules>=0.2.1 in /usr/local/lib/python3.7/dist-packages (from google-auth<3,>=1.6.3->tensorboard<2.9,>=2.8->tensorflow>=1.12->address-net[tf]) (0.2.8)\n",
            "Requirement already satisfied: requests-oauthlib>=0.7.0 in /usr/local/lib/python3.7/dist-packages (from google-auth-oauthlib<0.5,>=0.4.1->tensorboard<2.9,>=2.8->tensorflow>=1.12->address-net[tf]) (1.3.1)\n",
            "Requirement already satisfied: importlib-metadata>=4.4 in /usr/local/lib/python3.7/dist-packages (from markdown>=2.6.8->tensorboard<2.9,>=2.8->tensorflow>=1.12->address-net[tf]) (4.11.3)\n",
            "Requirement already satisfied: zipp>=0.5 in /usr/local/lib/python3.7/dist-packages (from importlib-metadata>=4.4->markdown>=2.6.8->tensorboard<2.9,>=2.8->tensorflow>=1.12->address-net[tf]) (3.8.0)\n",
            "Requirement already satisfied: pyasn1<0.5.0,>=0.4.6 in /usr/local/lib/python3.7/dist-packages (from pyasn1-modules>=0.2.1->google-auth<3,>=1.6.3->tensorboard<2.9,>=2.8->tensorflow>=1.12->address-net[tf]) (0.4.8)\n",
            "Requirement already satisfied: chardet<4,>=3.0.2 in /usr/local/lib/python3.7/dist-packages (from requests<3,>=2.21.0->tensorboard<2.9,>=2.8->tensorflow>=1.12->address-net[tf]) (3.0.4)\n",
            "Requirement already satisfied: idna<3,>=2.5 in /usr/local/lib/python3.7/dist-packages (from requests<3,>=2.21.0->tensorboard<2.9,>=2.8->tensorflow>=1.12->address-net[tf]) (2.10)\n",
            "Requirement already satisfied: urllib3!=1.25.0,!=1.25.1,<1.26,>=1.21.1 in /usr/local/lib/python3.7/dist-packages (from requests<3,>=2.21.0->tensorboard<2.9,>=2.8->tensorflow>=1.12->address-net[tf]) (1.24.3)\n",
            "Requirement already satisfied: certifi>=2017.4.17 in /usr/local/lib/python3.7/dist-packages (from requests<3,>=2.21.0->tensorboard<2.9,>=2.8->tensorflow>=1.12->address-net[tf]) (2022.5.18.1)\n",
            "Requirement already satisfied: oauthlib>=3.0.0 in /usr/local/lib/python3.7/dist-packages (from requests-oauthlib>=0.7.0->google-auth-oauthlib<0.5,>=0.4.1->tensorboard<2.9,>=2.8->tensorflow>=1.12->address-net[tf]) (3.2.0)\n",
            "Installing collected packages: tf-estimator-nightly, tensorboard, keras\n",
            "  Attempting uninstall: tensorboard\n",
            "    Found existing installation: tensorboard 2.9.0\n",
            "    Uninstalling tensorboard-2.9.0:\n",
            "      Successfully uninstalled tensorboard-2.9.0\n",
            "  Attempting uninstall: keras\n",
            "    Found existing installation: keras 2.9.0\n",
            "    Uninstalling keras-2.9.0:\n",
            "      Successfully uninstalled keras-2.9.0\n",
            "\u001b[31mERROR: pip's dependency resolver does not currently take into account all the packages that are installed. This behaviour is the source of the following dependency conflicts.\n",
            "tensorflow-gpu 2.9.1 requires keras<2.10.0,>=2.9.0rc0, but you have keras 2.8.0 which is incompatible.\n",
            "tensorflow-gpu 2.9.1 requires tensorboard<2.10,>=2.9, but you have tensorboard 2.8.0 which is incompatible.\u001b[0m\n",
            "Successfully installed keras-2.8.0 tensorboard-2.8.0 tf-estimator-nightly-2.8.0.dev2021122109\n"
          ]
        }
      ]
    },
    {
      "cell_type": "code",
      "source": [
        "!pip install fraddress"
      ],
      "metadata": {
        "id": "BbM176E0OF4I",
        "colab": {
          "base_uri": "https://localhost:8080/"
        },
        "outputId": "cfef4665-f7ed-40fa-8cb9-47f16af4f4d4"
      },
      "execution_count": null,
      "outputs": [
        {
          "output_type": "stream",
          "name": "stdout",
          "text": [
            "Looking in indexes: https://pypi.org/simple, https://us-python.pkg.dev/colab-wheels/public/simple/\n",
            "Collecting fraddress\n",
            "  Downloading fraddress-0.0.4-py3-none-any.whl (15 kB)\n",
            "Requirement already satisfied: lxml in /usr/local/lib/python3.7/dist-packages (from fraddress) (4.2.6)\n",
            "Collecting python-crfsuite>=0.7\n",
            "  Downloading python_crfsuite-0.9.8-cp37-cp37m-manylinux_2_17_x86_64.manylinux2014_x86_64.whl (965 kB)\n",
            "\u001b[K     |████████████████████████████████| 965 kB 5.4 MB/s \n",
            "\u001b[?25hInstalling collected packages: python-crfsuite, fraddress\n",
            "Successfully installed fraddress-0.0.4 python-crfsuite-0.9.8\n"
          ]
        }
      ]
    },
    {
      "cell_type": "code",
      "source": [
        "!pip install PYMUPDF"
      ],
      "metadata": {
        "colab": {
          "base_uri": "https://localhost:8080/"
        },
        "id": "VSZezB_Ntn9d",
        "outputId": "115c7d6a-51a3-485c-812c-d10998f2df6f"
      },
      "execution_count": null,
      "outputs": [
        {
          "output_type": "stream",
          "name": "stdout",
          "text": [
            "Looking in indexes: https://pypi.org/simple, https://us-python.pkg.dev/colab-wheels/public/simple/\n",
            "Collecting PYMUPDF\n",
            "  Downloading PyMuPDF-1.19.6-cp37-cp37m-manylinux_2_17_x86_64.manylinux2014_x86_64.whl (8.8 MB)\n",
            "\u001b[K     |████████████████████████████████| 8.8 MB 4.7 MB/s \n",
            "\u001b[?25hInstalling collected packages: PYMUPDF\n",
            "Successfully installed PYMUPDF-1.19.6\n"
          ]
        }
      ]
    },
    {
      "cell_type": "code",
      "source": [
        "from addresser import parse_location\n",
        "import locale\n",
        "import fraddress\n",
        "from  fraddress import parse\n",
        "import re\n",
        "import fitz\n",
        "import spacy\n",
        "from spacy.matcher import PhraseMatcher\n",
        "from calendar import month_name\n"
      ],
      "metadata": {
        "id": "pRheeQYadqQM"
      },
      "execution_count": null,
      "outputs": []
    },
    {
      "cell_type": "code",
      "source": [
        "from addressnet.predict import predict_one"
      ],
      "metadata": {
        "id": "ZxD1z-XSyG7S",
        "colab": {
          "base_uri": "https://localhost:8080/",
          "height": 325
        },
        "outputId": "b334dfbe-d006-4dd2-dc7e-6f54729b9774"
      },
      "execution_count": null,
      "outputs": [
        {
          "output_type": "error",
          "ename": "AttributeError",
          "evalue": "ignored",
          "traceback": [
            "\u001b[0;31m---------------------------------------------------------------------------\u001b[0m",
            "\u001b[0;31mAttributeError\u001b[0m                            Traceback (most recent call last)",
            "\u001b[0;32m<ipython-input-9-fe546478f932>\u001b[0m in \u001b[0;36m<module>\u001b[0;34m()\u001b[0m\n\u001b[0;32m----> 1\u001b[0;31m \u001b[0;32mfrom\u001b[0m \u001b[0maddressnet\u001b[0m\u001b[0;34m.\u001b[0m\u001b[0mpredict\u001b[0m \u001b[0;32mimport\u001b[0m \u001b[0mpredict_one\u001b[0m\u001b[0;34m\u001b[0m\u001b[0;34m\u001b[0m\u001b[0m\n\u001b[0m",
            "\u001b[0;32m/usr/local/lib/python3.7/dist-packages/addressnet/predict.py\u001b[0m in \u001b[0;36m<module>\u001b[0;34m()\u001b[0m\n\u001b[1;32m      4\u001b[0m \u001b[0;32mimport\u001b[0m \u001b[0mtensorflow\u001b[0m \u001b[0;32mas\u001b[0m \u001b[0mtf\u001b[0m\u001b[0;34m\u001b[0m\u001b[0;34m\u001b[0m\u001b[0m\n\u001b[1;32m      5\u001b[0m \u001b[0;34m\u001b[0m\u001b[0m\n\u001b[0;32m----> 6\u001b[0;31m \u001b[0;32mfrom\u001b[0m \u001b[0maddressnet\u001b[0m\u001b[0;34m.\u001b[0m\u001b[0mdataset\u001b[0m \u001b[0;32mimport\u001b[0m \u001b[0mpredict_input_fn\u001b[0m\u001b[0;34m,\u001b[0m \u001b[0mlabels_list\u001b[0m\u001b[0;34m\u001b[0m\u001b[0;34m\u001b[0m\u001b[0m\n\u001b[0m\u001b[1;32m      7\u001b[0m \u001b[0;32mfrom\u001b[0m \u001b[0maddressnet\u001b[0m\u001b[0;34m.\u001b[0m\u001b[0mlookups\u001b[0m \u001b[0;32mimport\u001b[0m \u001b[0mstreet_types\u001b[0m\u001b[0;34m,\u001b[0m \u001b[0mstreet_type_abbreviation\u001b[0m\u001b[0;34m,\u001b[0m \u001b[0mstates\u001b[0m\u001b[0;34m,\u001b[0m \u001b[0mstreet_suffix_types\u001b[0m\u001b[0;34m,\u001b[0m \u001b[0mflat_types\u001b[0m\u001b[0;34m,\u001b[0m\u001b[0;31m \u001b[0m\u001b[0;31m\\\u001b[0m\u001b[0;34m\u001b[0m\u001b[0;34m\u001b[0m\u001b[0m\n\u001b[1;32m      8\u001b[0m     \u001b[0mlevel_types\u001b[0m\u001b[0;34m\u001b[0m\u001b[0;34m\u001b[0m\u001b[0m\n",
            "\u001b[0;32m/usr/local/lib/python3.7/dist-packages/addressnet/dataset.py\u001b[0m in \u001b[0;36m<module>\u001b[0;34m()\u001b[0m\n\u001b[1;32m     12\u001b[0m \u001b[0;31m# Schema used to decode data from the TFRecord file\u001b[0m\u001b[0;34m\u001b[0m\u001b[0;34m\u001b[0m\u001b[0;34m\u001b[0m\u001b[0m\n\u001b[1;32m     13\u001b[0m _features = OrderedDict([\n\u001b[0;32m---> 14\u001b[0;31m     \u001b[0;34m(\u001b[0m\u001b[0;34m'building_name'\u001b[0m\u001b[0;34m,\u001b[0m \u001b[0mtf\u001b[0m\u001b[0;34m.\u001b[0m\u001b[0mFixedLenFeature\u001b[0m\u001b[0;34m(\u001b[0m\u001b[0;34m[\u001b[0m\u001b[0;34m]\u001b[0m\u001b[0;34m,\u001b[0m \u001b[0mtf\u001b[0m\u001b[0;34m.\u001b[0m\u001b[0mstring\u001b[0m\u001b[0;34m)\u001b[0m\u001b[0;34m)\u001b[0m\u001b[0;34m,\u001b[0m\u001b[0;34m\u001b[0m\u001b[0;34m\u001b[0m\u001b[0m\n\u001b[0m\u001b[1;32m     15\u001b[0m     \u001b[0;34m(\u001b[0m\u001b[0;34m'lot_number_prefix'\u001b[0m\u001b[0;34m,\u001b[0m \u001b[0mtf\u001b[0m\u001b[0;34m.\u001b[0m\u001b[0mFixedLenFeature\u001b[0m\u001b[0;34m(\u001b[0m\u001b[0;34m[\u001b[0m\u001b[0;34m]\u001b[0m\u001b[0;34m,\u001b[0m \u001b[0mtf\u001b[0m\u001b[0;34m.\u001b[0m\u001b[0mstring\u001b[0m\u001b[0;34m)\u001b[0m\u001b[0;34m)\u001b[0m\u001b[0;34m,\u001b[0m\u001b[0;34m\u001b[0m\u001b[0;34m\u001b[0m\u001b[0m\n\u001b[1;32m     16\u001b[0m     \u001b[0;34m(\u001b[0m\u001b[0;34m'lot_number'\u001b[0m\u001b[0;34m,\u001b[0m \u001b[0mtf\u001b[0m\u001b[0;34m.\u001b[0m\u001b[0mFixedLenFeature\u001b[0m\u001b[0;34m(\u001b[0m\u001b[0;34m[\u001b[0m\u001b[0;34m]\u001b[0m\u001b[0;34m,\u001b[0m \u001b[0mtf\u001b[0m\u001b[0;34m.\u001b[0m\u001b[0mstring\u001b[0m\u001b[0;34m)\u001b[0m\u001b[0;34m)\u001b[0m\u001b[0;34m,\u001b[0m\u001b[0;34m\u001b[0m\u001b[0;34m\u001b[0m\u001b[0m\n",
            "\u001b[0;31mAttributeError\u001b[0m: module 'tensorflow' has no attribute 'FixedLenFeature'"
          ]
        }
      ]
    },
    {
      "cell_type": "code",
      "source": [
        "nlp = spacy.load(\"en_core_web_sm\")"
      ],
      "metadata": {
        "id": "Dx8YT6G9oNlo"
      },
      "execution_count": null,
      "outputs": []
    },
    {
      "cell_type": "code",
      "execution_count": null,
      "metadata": {
        "id": "qGT0rTFTUhzW"
      },
      "outputs": [],
      "source": [
        "def postal_adresses(self, vals,path):\n",
        "        doc = fitz.open(path)\n",
        "        i =0\n",
        "        vals_tem = vals\n",
        "        for page12, data in vals.items():\n",
        "            for val in data :\n",
        "                for elem in val['words_dcp']['word_dcp']:\n",
        "                    for key, valu in elem.items():\n",
        "                        if(valu == \"Adresse postale\"):\n",
        "                            text = val['column_name'].split(\"-\")\n",
        "                            person = fitz.Rect(float(text[0]), int(float(text[1]))-20,\n",
        "                                    float(text[2]), int(float(text[1]))+1)\n",
        "                            person0 = fitz.Rect(0, float(text[1]),\n",
        "                                    float(text[0]), int(float(text[3]))+1)\n",
        "                            page = doc.loadPage(i)\n",
        "                            if len(page.getTextbox(person0)) > 0:\n",
        "\n",
        "                                sortie1 = page.getTextbox(person0).split(\"\\n\").pop(-1)\n",
        "                                sortie1 = \"\".join(sortie1.rstrip().lstrip())\n",
        "                                if len(sortie1)==0:\n",
        "                                    continue\n",
        "                                dest = filter(lambda ele: sortie1.lower() in ele[\"column_content\"].lower(), data)\n",
        "                                dest = list(dest)\n",
        "                                if len(dest) > 0:\n",
        "                                    ele = dest[0]\n",
        "                                    if 'Titulaire du compte' not in ele[\"file_type_columns\"][\"all\"] and 'Adresse postale' not in ele[\"file_type_columns\"][\"all\"] :\n",
        "                                        ind = data.index(ele)\n",
        "                                        tab = vals[page12][ind]['file_type_columns']['all']\n",
        "                                        tab.append(\"Titulaire du compte\")\n",
        "                                        vals_tem = self.update_val(vals_tem, page12, ind,\"Titulaire du compte\",sortie1.lower() )\n",
        "\n",
        "                            else:\n",
        "                                sortie1 = page.getTextbox(person).split(\"\\n\").pop(-1)\n",
        "                                sortie1 = \"\".join(sortie1.rstrip().lstrip())\n",
        "                                if len(sortie1)==0:\n",
        "                                    continue\n",
        "                                dest = filter(lambda ele: sortie1.lower() in ele[\"column_content\"].lower(), data)\n",
        "                                dest = list(dest)\n",
        "                                if len(dest) > 0:\n",
        "                                    ele = dest[0]\n",
        "                                    if 'Titulaire du compte' not in ele[\"file_type_columns\"][\"all\"] and 'Adresse postale' not in ele[\"file_type_columns\"][\"all\"] :\n",
        "                                        ind = data.index(ele)\n",
        "                                        tab = vals[page12][ind]['file_type_columns']['all']\n",
        "                                        tab.append(\"Titulaire du compte\")\n",
        "                                        vals_tem = self.update_val(vals_tem, page12, ind,\"Titulaire du compte\",sortie1.lower() )\n",
        "  \n",
        "            i= i+1\n",
        "        return vals_tem"
      ]
    },
    {
      "cell_type": "code",
      "source": [
        "class DetectPostalAdress():\n",
        "    \"\"\"Docstring for Main_functions.\"\"\"\n",
        "\n",
        "    def __init__(self):\n",
        "        \"\"\"Docstring for Main_functions.\"\"\"\n",
        "        pass\n",
        "\n",
        "    def get_postaladress(self, col_data):\n",
        "        \"\"\"Docstring for Main_functions.\"\"\"\n",
        "        col_data = str(col_data)\n",
        "        # print(\"donnée col ==\", col_data)\n",
        "        # print(f\"Taille = {len(col_data)}\")\n",
        "        mois = ['janvier', 'février', 'mars', 'avril', 'mai',\n",
        "                'juin', 'juillet', 'aout', 'septembre',\n",
        "                'octobre', 'novembre', 'décembre']\n",
        "        for x in mois:\n",
        "            if x in col_data.lower():\n",
        "                return False\n",
        "        if len(col_data) < 10:\n",
        "            return False\n",
        "        elif \" \" not in col_data:\n",
        "            return False\n",
        "        elif \". \" in col_data or \"/\" in col_data or \"'\" in col_data or \")\" in col_data:\n",
        "            return False\n",
        "        else:\n",
        "            postal = parse_location(col_data)\n",
        "            if postal is None:\n",
        "                return False\n",
        "            if \"number\" in [*postal] and \"street\" in [*postal] \\\n",
        "                and postal['street'][0].isdigit() is False:\n",
        "\n",
        "                # On s'assure que le prétendu street ne soit pas un mois..\n",
        "                return postal['street'].split()[0].lower() not in month_name[1:13]\n",
        "            else:\n",
        "                return False\n"
      ],
      "metadata": {
        "id": "gR7LiYgDkEbq"
      },
      "execution_count": null,
      "outputs": []
    },
    {
      "cell_type": "code",
      "source": [
        "def get_postaladress( col_data):\n",
        "        \"\"\"Docstring for Main_functions.\"\"\"\n",
        "        col_data = str(col_data)\n",
        "        postal = parse_location(col_data) #nouveau champ\n",
        "        \n",
        "       \n",
        "        postal_1 = parse(str(col_data))\n",
        "        print(postal_1)\n",
        "        \n",
        "        \n",
        "        # print(\"donnée col ==\", col_data)\n",
        "        # print(f\"Taille = {len(col_data)}\")\n",
        "        mois = ['janvier', 'février', 'mars', 'avril', 'mai',\n",
        "                'juin', 'juillet', 'aout', 'septembre',\n",
        "                'octobre', 'novembre', 'décembre']\n",
        "        for x in mois:\n",
        "            if x in col_data.lower().split():\n",
        "                print(x)               \n",
        "                return False\n",
        "        phrase_matcher = PhraseMatcher(nlp.vocab)\n",
        "        phrases = [\"situé à\", \"est à\", \"le siège social est à\", \"situé au\", \"situé au :\"]\n",
        "        patterns = [nlp(text) for text in phrases]\n",
        "        phrase_matcher.add('postal_addres',patterns)\n",
        "\n",
        "        doc = nlp(col_data)\n",
        "        \n",
        "        address=[]\n",
        "\n",
        "        \n",
        "\n",
        "        if len(col_data) < 10:\n",
        "            print('1')\n",
        "            return False\n",
        "\n",
        "        elif postal_1 != None:\n",
        "       \n",
        "          result_addres=[]\n",
        "          result_addres_def = []\n",
        "          for i in postal_1:\n",
        "            result_addres.append(i[1])\n",
        "          \n",
        "          #on teste si il s'agit d'une addresse\n",
        "\n",
        "          #la nouvelle update sont les condition\n",
        "          if result_addres.count('NotAddress') == len(result_addres) and postal ==None  :#nouvel_update\n",
        "            print('senbon')\n",
        "            return False\n",
        "          elif result_addres.count('NotAddress') != len(result_addres) and postal ==None  :#nouvel_update\n",
        "            print('sakura')\n",
        "            for i in postal_1:\n",
        "                if i[1] in {'AddressNumber','StreetType','StreetName','City','Zipcode'}:\n",
        "                    result_addres_def.append(i[0])\n",
        "\n",
        "            return True,result_addres_def       \n",
        "          \n",
        "          elif result_addres.count('NotAddress') == len(result_addres) and postal !=None  : #nouvel_update\n",
        "           print('naruto')\n",
        "           print(postal)\n",
        "           address7 = [i for i in postal.values()]\n",
        "           return True,''.join(address7)  #nouvel_update\n",
        "\n",
        "\n",
        "\n",
        "        elif \" \" not in col_data:\n",
        "            print('3')\n",
        "            return False\n",
        "        elif \". \" in col_data or \"/\" in col_data or \"'\" in col_data :\n",
        "            print('4')\n",
        "            return False\n",
        "        else:\n",
        "            print('5')\n",
        "            postal = parse_location(col_data)\n",
        "            \n",
        "    \n",
        "            print(postal_1)\n",
        "            if postal is None:\n",
        "                print('51')\n",
        "                return False\n",
        "            if \"number\" in [*postal] and \"street\" in [*postal] \\\n",
        "                and postal['street'][0].isdigit() is False:\n",
        "                print('52')\n",
        "\n",
        "                # On s'assure que le prétendu street ne soit pas un mois..\n",
        "                return postal['street'].split()[0].lower() not in month_name[1:13]\n",
        "            else:\n",
        "                print('53')\n",
        "                return False\n",
        "\n",
        "        if phrase_matcher(doc)==[]:\n",
        "            return address\n",
        "        else:\n",
        "          print('1')\n",
        "          print(phrase_matcher)\n",
        "          for i in phrase_matcher(doc):\n",
        "            address.append(doc[i[2]+1:i[2]+3].text)\n",
        "          return 'pain',address\n"
      ],
      "metadata": {
        "id": "-sa9dMJvyRU4"
      },
      "execution_count": null,
      "outputs": []
    },
    {
      "cell_type": "code",
      "source": [
        ""
      ],
      "metadata": {
        "id": "-p7XDCYu5G2F"
      },
      "execution_count": null,
      "outputs": []
    },
    {
      "cell_type": "code",
      "source": [
        "get_postaladress(' 400 000,00 €')"
      ],
      "metadata": {
        "id": "1MdwEqxXss9i"
      },
      "execution_count": null,
      "outputs": []
    },
    {
      "cell_type": "code",
      "source": [
        "get_postaladress('38 002,00 €')"
      ],
      "metadata": {
        "id": "Q7jTb3XXzBpN"
      },
      "execution_count": null,
      "outputs": []
    },
    {
      "cell_type": "code",
      "source": [
        ""
      ],
      "metadata": {
        "id": "hKguHo7_zcMU"
      },
      "execution_count": null,
      "outputs": []
    },
    {
      "cell_type": "code",
      "source": [
        ""
      ],
      "metadata": {
        "id": "3jDQg39Mt1No"
      },
      "execution_count": null,
      "outputs": []
    }
  ]
}