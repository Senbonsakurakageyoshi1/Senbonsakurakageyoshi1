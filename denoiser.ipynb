{
  "nbformat": 4,
  "nbformat_minor": 0,
  "metadata": {
    "colab": {
      "name": "denoiser.ipynb",
      "provenance": [],
      "authorship_tag": "ABX9TyOMGEKP6gy1hQoahUkzYW4W",
      "include_colab_link": true
    },
    "kernelspec": {
      "name": "python3",
      "display_name": "Python 3"
    },
    "language_info": {
      "name": "python"
    }
  },
  "cells": [
    {
      "cell_type": "markdown",
      "metadata": {
        "id": "view-in-github",
        "colab_type": "text"
      },
      "source": [
        "<a href=\"https://colab.research.google.com/github/Senbonsakurakageyoshi1/Senbonsakurakageyoshi1/blob/main/denoiser.ipynb\" target=\"_parent\"><img src=\"https://colab.research.google.com/assets/colab-badge.svg\" alt=\"Open In Colab\"/></a>"
      ]
    },
    {
      "cell_type": "code",
      "execution_count": 5,
      "metadata": {
        "colab": {
          "base_uri": "https://localhost:8080/"
        },
        "id": "U6dNVWPj4a3d",
        "outputId": "2c03db37-28d2-4ced-fd73-09ca43c0e8c2"
      },
      "outputs": [
        {
          "output_type": "stream",
          "name": "stdout",
          "text": [
            "Reading package lists... Done\n",
            "Building dependency tree       \n",
            "Reading state information... Done\n",
            "The following additional packages will be installed:\n",
            "  tesseract-ocr-eng tesseract-ocr-osd\n",
            "The following NEW packages will be installed:\n",
            "  tesseract-ocr tesseract-ocr-eng tesseract-ocr-osd\n",
            "0 upgraded, 3 newly installed, 0 to remove and 41 not upgraded.\n",
            "Need to get 4,795 kB of archives.\n",
            "After this operation, 15.8 MB of additional disk space will be used.\n",
            "Get:1 http://archive.ubuntu.com/ubuntu bionic/universe amd64 tesseract-ocr-eng all 4.00~git24-0e00fe6-1.2 [1,588 kB]\n",
            "Get:2 http://archive.ubuntu.com/ubuntu bionic/universe amd64 tesseract-ocr-osd all 4.00~git24-0e00fe6-1.2 [2,989 kB]\n",
            "Get:3 http://archive.ubuntu.com/ubuntu bionic/universe amd64 tesseract-ocr amd64 4.00~git2288-10f4998a-2 [218 kB]\n",
            "Fetched 4,795 kB in 1s (5,652 kB/s)\n",
            "debconf: unable to initialize frontend: Dialog\n",
            "debconf: (No usable dialog-like program is installed, so the dialog based frontend cannot be used. at /usr/share/perl5/Debconf/FrontEnd/Dialog.pm line 76, <> line 3.)\n",
            "debconf: falling back to frontend: Readline\n",
            "debconf: unable to initialize frontend: Readline\n",
            "debconf: (This frontend requires a controlling tty.)\n",
            "debconf: falling back to frontend: Teletype\n",
            "dpkg-preconfigure: unable to re-open stdin: \n",
            "Selecting previously unselected package tesseract-ocr-eng.\n",
            "(Reading database ... 155514 files and directories currently installed.)\n",
            "Preparing to unpack .../tesseract-ocr-eng_4.00~git24-0e00fe6-1.2_all.deb ...\n",
            "Unpacking tesseract-ocr-eng (4.00~git24-0e00fe6-1.2) ...\n",
            "Selecting previously unselected package tesseract-ocr-osd.\n",
            "Preparing to unpack .../tesseract-ocr-osd_4.00~git24-0e00fe6-1.2_all.deb ...\n",
            "Unpacking tesseract-ocr-osd (4.00~git24-0e00fe6-1.2) ...\n",
            "Selecting previously unselected package tesseract-ocr.\n",
            "Preparing to unpack .../tesseract-ocr_4.00~git2288-10f4998a-2_amd64.deb ...\n",
            "Unpacking tesseract-ocr (4.00~git2288-10f4998a-2) ...\n",
            "Setting up tesseract-ocr-osd (4.00~git24-0e00fe6-1.2) ...\n",
            "Setting up tesseract-ocr-eng (4.00~git24-0e00fe6-1.2) ...\n",
            "Setting up tesseract-ocr (4.00~git2288-10f4998a-2) ...\n",
            "Processing triggers for man-db (2.8.3-2ubuntu0.1) ...\n"
          ]
        }
      ],
      "source": [
        "!sudo apt install tesseract-ocr"
      ]
    },
    {
      "cell_type": "code",
      "source": [
        "!pip install pytesseract"
      ],
      "metadata": {
        "colab": {
          "base_uri": "https://localhost:8080/"
        },
        "id": "DdhKYsiH4zTM",
        "outputId": "e4466dcb-87a8-4596-d5da-819e9d3c970f"
      },
      "execution_count": 6,
      "outputs": [
        {
          "output_type": "stream",
          "name": "stdout",
          "text": [
            "Requirement already satisfied: pytesseract in /usr/local/lib/python3.7/dist-packages (0.3.9)\n",
            "Requirement already satisfied: packaging>=21.3 in /usr/local/lib/python3.7/dist-packages (from pytesseract) (21.3)\n",
            "Requirement already satisfied: Pillow>=8.0.0 in /usr/local/lib/python3.7/dist-packages (from pytesseract) (9.1.0)\n",
            "Requirement already satisfied: pyparsing!=3.0.5,>=2.0.2 in /usr/local/lib/python3.7/dist-packages (from packaging>=21.3->pytesseract) (3.0.8)\n"
          ]
        }
      ]
    },
    {
      "cell_type": "code",
      "source": [
        "!apt-get -qq install -y libsm6 libxext6 && pip install -q -U opencv-python"
      ],
      "metadata": {
        "colab": {
          "base_uri": "https://localhost:8080/"
        },
        "id": "DK4nnRwu6jVo",
        "outputId": "e8a72de5-1c94-4497-c595-982d44d0908b"
      },
      "execution_count": 24,
      "outputs": [
        {
          "output_type": "stream",
          "name": "stdout",
          "text": [
            "\u001b[K     |████████████████████████████████| 60.5 MB 1.2 MB/s \n",
            "\u001b[31mERROR: pip's dependency resolver does not currently take into account all the packages that are installed. This behaviour is the source of the following dependency conflicts.\n",
            "albumentations 0.1.12 requires imgaug<0.2.7,>=0.2.5, but you have imgaug 0.2.9 which is incompatible.\u001b[0m\n",
            "\u001b[?25h"
          ]
        }
      ]
    },
    {
      "cell_type": "code",
      "source": [
        "!pip install PYMUPDF"
      ],
      "metadata": {
        "colab": {
          "base_uri": "https://localhost:8080/"
        },
        "id": "AF2R1KxA4_dz",
        "outputId": "ff3d98e0-3036-4718-bb1f-86cdc67da25b"
      },
      "execution_count": 10,
      "outputs": [
        {
          "output_type": "stream",
          "name": "stdout",
          "text": [
            "Collecting PYMUPDF\n",
            "  Downloading PyMuPDF-1.19.6-cp37-cp37m-manylinux_2_17_x86_64.manylinux2014_x86_64.whl (8.8 MB)\n",
            "\u001b[K     |████████████████████████████████| 8.8 MB 5.9 MB/s \n",
            "\u001b[?25hInstalling collected packages: PYMUPDF\n",
            "Successfully installed PYMUPDF-1.19.6\n"
          ]
        }
      ]
    },
    {
      "cell_type": "code",
      "source": [
        "!pip install --ignore-installed Pillow==9.0.0"
      ],
      "metadata": {
        "colab": {
          "base_uri": "https://localhost:8080/",
          "height": 245
        },
        "id": "dWf_eTlK7Hb6",
        "outputId": "967f7b39-a5d4-467b-a79c-e1bb0accc7ec"
      },
      "execution_count": 41,
      "outputs": [
        {
          "output_type": "stream",
          "name": "stdout",
          "text": [
            "Collecting Pillow==9.0.0\n",
            "  Downloading Pillow-9.0.0-cp37-cp37m-manylinux_2_17_x86_64.manylinux2014_x86_64.whl (4.3 MB)\n",
            "\u001b[K     |████████████████████████████████| 4.3 MB 6.7 MB/s \n",
            "\u001b[?25hInstalling collected packages: Pillow\n",
            "\u001b[31mERROR: pip's dependency resolver does not currently take into account all the packages that are installed. This behaviour is the source of the following dependency conflicts.\n",
            "albumentations 0.1.12 requires imgaug<0.2.7,>=0.2.5, but you have imgaug 0.2.9 which is incompatible.\u001b[0m\n",
            "Successfully installed Pillow-9.1.0\n"
          ]
        },
        {
          "output_type": "display_data",
          "data": {
            "application/vnd.colab-display-data+json": {
              "pip_warning": {
                "packages": [
                  "PIL"
                ]
              }
            }
          },
          "metadata": {}
        }
      ]
    },
    {
      "cell_type": "code",
      "source": [
        "import pytesseract\n",
        "from pytesseract import Output\n",
        "import cv2\n",
        "import fitz\n",
        "import datetime\n",
        "import time\n",
        "import os\n",
        "import json\n",
        "import imutils\n",
        "import numpy as np"
      ],
      "metadata": {
        "id": "w3Y9PhiB4skx"
      },
      "execution_count": 45,
      "outputs": []
    },
    {
      "cell_type": "code",
      "source": [
        "import pytesseract\n",
        "import shutil\n",
        "import os\n",
        "import random\n",
        "try:\n",
        "    from PIL import Image\n",
        "except ImportError:\n",
        "    import Image"
      ],
      "metadata": {
        "id": "4mnpLn295-vA"
      },
      "execution_count": 62,
      "outputs": []
    },
    {
      "cell_type": "code",
      "source": [
        "path_image = '/content/images'"
      ],
      "metadata": {
        "id": "SfVM-HNR5ehm"
      },
      "execution_count": 63,
      "outputs": []
    },
    {
      "cell_type": "code",
      "source": [
        "\n",
        "def extract_text(path):\n",
        "    \"\"\" Fonction d'extraction du texte sur des pdf scannés \"\"\"\n",
        "    pages = fitz.open(path)\n",
        "    \n",
        "    all_pages =  {}\n",
        "    all_pages['Image'] = []\n",
        "    \n",
        "    les_pages = {}\n",
        "    \n",
        "    for page in pages:\n",
        "        deb = datetime.datetime.now()\n",
        "        les_mots = []\n",
        "        # extraire l'image de la page en cours\n",
        "        # puis du texte de cette image..\n",
        "        \n",
        "        \n",
        "        att = path_image + \"/page-\" + \\\n",
        "            str(page.number) + \"-\" + str(time.time()) + \".png\"\n",
        "\n",
        "        mat = fitz.Matrix(2, 2)\n",
        "        pix = page.getPixmap(matrix=mat)  # render page to an image\n",
        "        pix.writePNG(att)  # store image as a PNG\n",
        "        \n",
        "        # ici pytesseract ..\n",
        "        img = cv2.imread(att)\n",
        "        gray_img = cv2.cvtColor(img, cv2.COLOR_BGR2GRAY)\n",
        "        cv2.threshold(gray_img, 0,255,cv2.THRESH_BINARY| cv2.THRESH_OTSU)[1]\n",
        "\n",
        "        d = pytesseract.image_to_data(gray_img, output_type=Output.DICT, config='--psm 10')\n",
        "        #d = pytesseract.image_to_string(gray_img, config=custom_config)\n",
        "        print(d)\n",
        "        n_boxes = len(d['text'])\n",
        "        for i in range(n_boxes):\n",
        "            (x, y, w, h) = (d['left'][i], d['top'][i], d['width'][i], d['height'][i])\n",
        "            coordonnees = f\"{x}-{y}-{w}-{h}\"\n",
        "            mot = d['text'][i]\n",
        "            if len(mot.strip()) > 0:\n",
        "                les_mots.append({coordonnees: mot})\n",
        "                #les_mots.append(mot)\n",
        "\n",
        "        les_pages[f\"Page {page.number}\"] = les_mots\n",
        "        fin = datetime.datetime.now()\n",
        "\n",
        "        print(f\"Diff Excecu Page-{page.number} -> {fin-deb}\")\n",
        "    \n",
        "    all_pages[\"Image\"].append(les_pages)\n",
        "    \n",
        "    return all_pages"
      ],
      "metadata": {
        "id": "qXTwMvlD4nnL"
      },
      "execution_count": 132,
      "outputs": []
    },
    {
      "cell_type": "code",
      "source": [
        "path='/content/images/page-0-1651246538.5197868.png'"
      ],
      "metadata": {
        "id": "-xpG7w7v9Y7T"
      },
      "execution_count": 133,
      "outputs": []
    },
    {
      "cell_type": "code",
      "source": [
        "\n",
        "    \n",
        "deb = datetime.datetime.now()\n",
        "all_pages = extract_text(path)\n",
        "fin = datetime.datetime.now()\n",
        "print(\"Diff Excecu = \", fin-deb)\n",
        "print(\"Coordonnees des Mots de pages = \\n\", all_pages)"
      ],
      "metadata": {
        "colab": {
          "base_uri": "https://localhost:8080/"
        },
        "id": "eSFRKCfu75il",
        "outputId": "de506991-7f00-4308-b613-65847346dd3a"
      },
      "execution_count": 134,
      "outputs": [
        {
          "output_type": "stream",
          "name": "stderr",
          "text": [
            "Deprecation: 'getPixmap' removed from class 'Page' after v1.19 - use 'get_pixmap'.\n",
            "Deprecation: 'writePNG' removed from class 'Pixmap' after v1.19 - use 'save'.\n"
          ]
        },
        {
          "output_type": "stream",
          "name": "stdout",
          "text": [
            "{'level': [1, 2, 3, 4, 5], 'page_num': [1, 1, 1, 1, 1], 'block_num': [0, 1, 1, 1, 1], 'par_num': [0, 0, 1, 1, 1], 'line_num': [0, 0, 0, 1, 1], 'word_num': [0, 0, 0, 0, 1], 'left': [0, 52, 52, 52, 52], 'top': [0, 7, 7, 7, 7], 'width': [1785, 1688, 1688, 1688, 1688], 'height': [2523, 2486, 2486, 2486, 2486], 'conf': ['-1', '-1', '-1', '-1', 55], 'text': ['', '', '', '', 'i-']}\n",
            "Diff Excecu Page-0 -> 0:00:01.507021\n",
            "Diff Excecu =  0:00:01.511629\n",
            "Coordonnees des Mots de pages = \n",
            " {'Image': [{'Page 0': [{'52-7-1688-2486': 'i-'}]}]}\n"
          ]
        }
      ]
    },
    {
      "cell_type": "code",
      "source": [
        "def denoiser(path):\n",
        "  image = cv2.imread(path)\n",
        "  print(image.shape)\t\n",
        "  gray  = cv2.cvtColor(image, cv2.COLOR_BGR2GRAY )\n",
        "  image = cv2.threshold(gray, 0, 255,cv2.THRESH_BINARY_INV | cv2.THRESH_OTSU)[1]\n",
        "  dist = cv2.distanceTransform(image, cv2.DIST_L2, 5)\n",
        "  print(dist)\n",
        "  dist = cv2.normalize(dist, dist, 0, 1.0, cv2.NORM_MINMAX)\n",
        "  dist = (dist * 255).astype(\"uint8\")\n",
        "  dist = cv2.threshold(dist, 0, 255,cv2.THRESH_BINARY | cv2.THRESH_OTSU)[1]\n",
        "  kernel = cv2.getStructuringElement(cv2.MORPH_ELLIPSE, (7, 7))\n",
        "  opening = cv2.morphologyEx(dist, cv2.MORPH_OPEN, kernel)\n",
        "  cnts = cv2.findContours(opening.copy(), cv2.RETR_EXTERNAL,cv2.CHAIN_APPROX_SIMPLE)\n",
        "  cnts = imutils.grab_contours(cnts)\n",
        "  chars = []\n",
        "  for c in cnts:\n",
        "\t# compute the bounding box of the contour\n",
        "\t   (x, y, w, h) = cv2.boundingRect(c)\n",
        "\t# check if contour is at least 35px wide and 100px tall, and if\n",
        "\t# so, consider the contour a digit\n",
        "\t   if w >= 35 and h >= 100:\n",
        "\t\t     chars.append(c)\n",
        "  # compute the convex hull of the characters\n",
        "  chars = np.vstack([chars[i] for i in range(0, len(chars))])\n",
        "  hull = cv2.convexHull(chars)\n",
        "  # allocate memory for the convex hull mask, draw the convex hull on\n",
        "  # the image, and then enlarge it via a dilation\n",
        "  mask = np.zeros(image.shape[:2], dtype=\"uint8\")\n",
        "  cv2.drawContours(mask, [hull], -1, 255, -1)\n",
        "  mask = cv2.dilate(mask, None, iterations=2)\n",
        "  \n",
        "  # take the bitwise of the opening image and the mask to reveal *just*\n",
        "  # the characters in the image\n",
        "  final = cv2.bitwise_and(opening, opening, mask=mask)\n",
        " \n",
        "\n",
        "\n",
        "  #image = cv2.adaptiveThreshold(gray,255,cv2.ADAPTIVE_THRESH_GAUSSIAN_C,cv2.THRESH_BINARY,11,2)\n",
        "  #cv2.resize(image, None, fx=1.2, fy=1.2, interpolation=cv2.INTER_CUBIC)\n",
        "  cv2.imwrite('reult1.jpg',image)"
      ],
      "metadata": {
        "id": "qG9LNPRjKpSa"
      },
      "execution_count": 84,
      "outputs": []
    },
    {
      "cell_type": "code",
      "source": [
        "def denoiser(path):\n",
        "  image = cv2.imread(path)\n",
        "  print(image.shape)\t\n",
        "  gray  = cv2.cvtColor(image, cv2.COLOR_BGR2GRAY )\n",
        "  image = cv2.threshold(gray, 0, 255,\tcv2.THRESH_BINARY_INV | cv2.THRESH_OTSU)[1]\n",
        "  \n",
        "  cv2.imwrite('reult1.jpg',image)"
      ],
      "metadata": {
        "id": "rTQBBr6E9MMl"
      },
      "execution_count": 113,
      "outputs": []
    },
    {
      "cell_type": "code",
      "source": [
        "denoiser(path)"
      ],
      "metadata": {
        "colab": {
          "base_uri": "https://localhost:8080/"
        },
        "id": "ExmjO41a-vs6",
        "outputId": "87f76447-2f1a-44cc-a797-707b3de55429"
      },
      "execution_count": 114,
      "outputs": [
        {
          "output_type": "stream",
          "name": "stdout",
          "text": [
            "(1682, 1190, 3)\n"
          ]
        }
      ]
    },
    {
      "cell_type": "code",
      "source": [
        "extractedInformation = pytesseract.image_to_string('/content/reult1.jpg')"
      ],
      "metadata": {
        "id": "F-fNBJK7_1dR"
      },
      "execution_count": 137,
      "outputs": []
    },
    {
      "cell_type": "code",
      "source": [
        "extractedInformation1 = pytesseract.image_to_string('/content/reult.jpg')"
      ],
      "metadata": {
        "id": "VdJ_rDlJIutN"
      },
      "execution_count": 100,
      "outputs": []
    },
    {
      "cell_type": "code",
      "source": [
        "print(extractedInformation)"
      ],
      "metadata": {
        "colab": {
          "base_uri": "https://localhost:8080/"
        },
        "id": "8tE7XWfFA7HF",
        "outputId": "ccce08fb-6698-477e-e815-e8633bba2427"
      },
      "execution_count": 136,
      "outputs": [
        {
          "output_type": "stream",
          "name": "stdout",
          "text": [
            "fe\n",
            "\f\n"
          ]
        }
      ]
    },
    {
      "cell_type": "code",
      "source": [
        "extractedInformation1 = pytesseract.image_to_string('/content/images/page-0-1651246538.5197868.png')"
      ],
      "metadata": {
        "id": "K04yUf6gM31B"
      },
      "execution_count": 157,
      "outputs": []
    },
    {
      "cell_type": "code",
      "source": [
        "formation2 =  pytesseract.image_to_string('/content/oi.png',config='--psm 10')"
      ],
      "metadata": {
        "id": "cVwpJqZkPbgt"
      },
      "execution_count": 165,
      "outputs": []
    },
    {
      "cell_type": "code",
      "source": [
        "!tesseract --help-extra"
      ],
      "metadata": {
        "colab": {
          "base_uri": "https://localhost:8080/"
        },
        "id": "m7ZKHSlBVCZp",
        "outputId": "6cd25559-88cb-45d2-ad15-1d9f99c9c4b3"
      },
      "execution_count": 169,
      "outputs": [
        {
          "output_type": "stream",
          "name": "stdout",
          "text": [
            "Usage:\n",
            "  tesseract --help | --help-extra | --help-psm | --help-oem | --version\n",
            "  tesseract --list-langs [--tessdata-dir PATH]\n",
            "  tesseract --print-parameters [options...] [configfile...]\n",
            "  tesseract imagename|imagelist|stdin outputbase|stdout [options...] [configfile...]\n",
            "\n",
            "OCR options:\n",
            "  --tessdata-dir PATH   Specify the location of tessdata path.\n",
            "  --user-words PATH     Specify the location of user words file.\n",
            "  --user-patterns PATH  Specify the location of user patterns file.\n",
            "  -l LANG[+LANG]        Specify language(s) used for OCR.\n",
            "  -c VAR=VALUE          Set value for config variables.\n",
            "                        Multiple -c arguments are allowed.\n",
            "  --psm NUM             Specify page segmentation mode.\n",
            "  --oem NUM             Specify OCR Engine mode.\n",
            "NOTE: These options must occur before any configfile.\n",
            "\n",
            "Page segmentation modes:\n",
            "  0    Orientation and script detection (OSD) only.\n",
            "  1    Automatic page segmentation with OSD.\n",
            "  2    Automatic page segmentation, but no OSD, or OCR.\n",
            "  3    Fully automatic page segmentation, but no OSD. (Default)\n",
            "  4    Assume a single column of text of variable sizes.\n",
            "  5    Assume a single uniform block of vertically aligned text.\n",
            "  6    Assume a single uniform block of text.\n",
            "  7    Treat the image as a single text line.\n",
            "  8    Treat the image as a single word.\n",
            "  9    Treat the image as a single word in a circle.\n",
            " 10    Treat the image as a single character.\n",
            " 11    Sparse text. Find as much text as possible in no particular order.\n",
            " 12    Sparse text with OSD.\n",
            " 13    Raw line. Treat the image as a single text line,\n",
            "       bypassing hacks that are Tesseract-specific.\n",
            "\n",
            "OCR Engine modes: (see https://github.com/tesseract-ocr/tesseract/wiki#linux)\n",
            "  0    Legacy engine only.\n",
            "  1    Neural nets LSTM engine only.\n",
            "  2    Legacy + LSTM engines.\n",
            "  3    Default, based on what is available.\n",
            "\n",
            "Single options:\n",
            "  -h, --help            Show minimal help message.\n",
            "  --help-extra          Show extra help for advanced users.\n",
            "  --help-psm            Show page segmentation modes.\n",
            "  --help-oem            Show OCR Engine modes.\n",
            "  -v, --version         Show version information.\n",
            "  --list-langs          List available languages for tesseract engine.\n",
            "  --print-parameters    Print tesseract parameters.\n"
          ]
        }
      ]
    },
    {
      "cell_type": "markdown",
      "source": [
        ""
      ],
      "metadata": {
        "id": "gLSnEIvXSiUR"
      }
    },
    {
      "cell_type": "code",
      "source": [
        "print(formation2)"
      ],
      "metadata": {
        "colab": {
          "base_uri": "https://localhost:8080/"
        },
        "id": "BMMur-k-P0f1",
        "outputId": "c44973d2-f175-42f3-8206-f4ae03ddd10c"
      },
      "execution_count": 167,
      "outputs": [
        {
          "output_type": "stream",
          "name": "stdout",
          "text": [
            "icceay\n",
            "\f\n"
          ]
        }
      ]
    },
    {
      "cell_type": "code",
      "source": [
        "print(extractedInformation1)"
      ],
      "metadata": {
        "colab": {
          "base_uri": "https://localhost:8080/"
        },
        "id": "W-o0xrHrBX0c",
        "outputId": "a5348926-37f8-4a4f-ad46-3e5658fa8503"
      },
      "execution_count": 158,
      "outputs": [
        {
          "output_type": "stream",
          "name": "stdout",
          "text": [
            "  \n",
            " \n",
            "  \n",
            "    \n",
            "    \n",
            "   \n",
            "  \n",
            " \n",
            "   \n",
            "     \n",
            "  \n",
            "\n",
            "Monsieur DECOUVELAERE Jean-Francois\n",
            "\n",
            "14 rue du Marais\n",
            "\n",
            "44000 NANTES\n",
            "Nos Réf + (28074485\n",
            "Affaire :(DECOUVELAERE JEAN FRANCOIS\n",
            "Véhicule : RENAULT\n",
            "\n",
            "Immatriculé :\\51UuBBF44\n",
            "\n",
            "Nantes, le 25 mai 2009\n",
            "\n",
            "RAPPORT D'EXPERTISE\n",
            "\n",
            "   \n",
            "\n",
            "Monsieur,\n",
            "\n",
            "Nous vous remercions pour la confiance que vous nous avez\n",
            "témoignée en nous transmettant le dossier cité en référence et vous\n",
            "\n",
            "prions de trouver, ci-dessous, le déroulement de cette affaire et nos\n",
            "conclusions.\n",
            "\n",
            "1 NATURE DU LITIGE\n",
            "\n",
            "La RENAULT Laguna de Monsieur| DECOUVELAERE| est immobilisée au\n",
            "Garage| LEROUX/a ANCENIS suite A une Panne moteur.\n",
            "\n",
            "    \n",
            "\n",
            "  \n",
            "\n",
            "COLA EXPENTISE - Cabitte( BALDERT & EESCANNE - S.A.RE au canitalde SO 808 SMEET a Tee 7GL aT\n",
            "\f\n"
          ]
        }
      ]
    },
    {
      "cell_type": "code",
      "source": [
        ""
      ],
      "metadata": {
        "id": "sUaTURW_OQGK"
      },
      "execution_count": null,
      "outputs": []
    }
  ]
}