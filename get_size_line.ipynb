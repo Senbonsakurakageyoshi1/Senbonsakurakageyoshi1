{
  "nbformat": 4,
  "nbformat_minor": 0,
  "metadata": {
    "colab": {
      "name": "get_size_line.ipynb",
      "provenance": [],
      "authorship_tag": "ABX9TyO1wHkYy5/4b5lk/vTu/gwF",
      "include_colab_link": true
    },
    "kernelspec": {
      "name": "python3",
      "display_name": "Python 3"
    },
    "language_info": {
      "name": "python"
    }
  },
  "cells": [
    {
      "cell_type": "markdown",
      "metadata": {
        "id": "view-in-github",
        "colab_type": "text"
      },
      "source": [
        "<a href=\"https://colab.research.google.com/github/Senbonsakurakageyoshi1/Senbonsakurakageyoshi1/blob/main/get_size_line.ipynb\" target=\"_parent\"><img src=\"https://colab.research.google.com/assets/colab-badge.svg\" alt=\"Open In Colab\"/></a>"
      ]
    },
    {
      "cell_type": "code",
      "source": [
        "import pandas as pd\n",
        "import re\n"
      ],
      "metadata": {
        "id": "zEC63IWNq8FX"
      },
      "execution_count": null,
      "outputs": []
    },
    {
      "cell_type": "code",
      "execution_count": null,
      "metadata": {
        "colab": {
          "base_uri": "https://localhost:8080/"
        },
        "id": "LnW3o1Uep1jm",
        "outputId": "daa47d1d-7a8f-4e54-9a8b-083c330bdeb0"
      },
      "outputs": [
        {
          "output_type": "execute_result",
          "data": {
            "text/plain": [
              "5"
            ]
          },
          "metadata": {},
          "execution_count": 2
        }
      ],
      "source": [
        "len(\"     \")"
      ]
    },
    {
      "cell_type": "code",
      "source": [
        "result_line='jlhjfdhjhdkjjkxfjaaahfhjfjkédfkfdkjfdjhfdjkhhfgfk'\n",
        "path_file1='/content/test_police_size.csv'\n",
        "path_file='/content/size_police.csv'"
      ],
      "metadata": {
        "id": "hEcE5hRdqHMG"
      },
      "execution_count": null,
      "outputs": []
    },
    {
      "cell_type": "code",
      "source": [
        "def get_size_line(path_file, result_line):\n",
        "  df=pd.read_csv(path_file)\n",
        "  a=df.columns.values.tolist()\n",
        "  df1 = pd.DataFrame(columns=a.remove('lettre'))\n",
        "  df['occurences']=''\n",
        "  for char in result_line:    \n",
        "    if char == ' ' or char+' ' not in df['lettre'].unique() :\n",
        "      df.loc[df['lettre'] == 'NaN','occurences']=result_line.count(char)\n",
        "    elif char+' ' in df['lettre'].unique() :\n",
        "      df.loc[df['lettre'] == char+' ','occurences']=result_line.count(char)\n",
        "    else:\n",
        "      pass \n",
        "  df.loc[df['occurences']=='','occurences']=0\n",
        "  for i in a: \n",
        "    df[i]=df[i].astype('float').apply(lambda x:x/10)  \n",
        "  for i in a:   \n",
        "    df1[i]=df[i]*df['occurences'] \n",
        "  df1=df1.sum(axis=0)\n",
        "  \n",
        "\n",
        "\n",
        "  \n",
        "\n",
        "  return df1.to_dict()\n",
        "  \n",
        "  \n",
        "\n",
        "\n",
        "\n",
        "\n",
        "\n",
        "\n"
      ],
      "metadata": {
        "id": "dUdTv9CEp8Us"
      },
      "execution_count": null,
      "outputs": []
    },
    {
      "cell_type": "code",
      "source": [
        "df,dict2=get_size_line(path_file, result_line)"
      ],
      "metadata": {
        "id": "m5fpocq-reyN"
      },
      "execution_count": null,
      "outputs": []
    },
    {
      "cell_type": "code",
      "source": [
        "print(dict2)"
      ],
      "metadata": {
        "id": "Jfw2WfU1BdH1",
        "colab": {
          "base_uri": "https://localhost:8080/"
        },
        "outputId": "6c27bdb5-53ae-4ef2-b32f-be1d162117d8"
      },
      "execution_count": null,
      "outputs": [
        {
          "output_type": "stream",
          "name": "stdout",
          "text": [
            "{'Taille_11': 33.32868957519531, 'Taille_26': 78.79051055908204, 'Taille_8': 24.218442535400392, 'Taille_30': 90.54648056030274, 'Taille_29': 88.01795501708985, 'Taille_15': 45.38624649047851, 'Taille_13': 39.24811477661134, 'Taille_34': 102.77784729003908, 'Taille_7': 21.30561065673828, 'Taille_32': 96.86442871093752, 'Taille_28': 84.74450912475587, 'Taille_10': 30.12888412475586, 'Taille_20': 60.739629364013666, 'Taille_31': 93.73793792724608, 'Taille_23': 69.63941726684571, 'Taille_25': 75.65182189941406, 'Taille_21': 63.55533447265624, 'Taille_36': 108.99766693115234, 'Taille_9': 27.17489013671875, 'Taille_22': 66.4884422302246, 'Taille_14': 42.412873077392575, 'Taille_33': 99.77183685302734, 'Taille_19': 57.39886169433594, 'Taille_16': 48.38445205688477, 'Taille_35': 105.93939819335938, 'Taille_12': 36.33257827758789, 'Taille_18': 54.49871520996094, 'Taille_24': 72.75856094360353, 'Taille_17': 51.363037872314464, 'Taille_27': 81.74816665649413}\n"
          ]
        }
      ]
    },
    {
      "cell_type": "code",
      "source": [
        "def getNumbers(str):\n",
        "\tarray = re.findall(r'[0-9]+', str)\n",
        "\treturn array\n",
        "\n"
      ],
      "metadata": {
        "id": "NDXOGlAQrgpA"
      },
      "execution_count": null,
      "outputs": []
    },
    {
      "cell_type": "code",
      "source": [
        "def table_of_dict (dict2):\n",
        "  result=[]\n",
        "  result_dict={}\n",
        "  k=0\n",
        "  try:\n",
        "    del dict2['Unnamed: 0']\n",
        "\n",
        "  except:\n",
        "\n",
        "    for i ,j in dict2.items():\n",
        "      if k<len(dict2):\n",
        "        \n",
        "        result.append({})\n",
        "        result[k][\"taille\"]=int(getNumbers(i)[0])\n",
        "        result[k][\"longeur\"]=j\n",
        "        k+=1\n",
        "\n",
        "  return result\n",
        "\n",
        "\n",
        "                            \n",
        "\n",
        "\n",
        "  \n",
        "\n"
      ],
      "metadata": {
        "id": "wpG5hLWHqFCi"
      },
      "execution_count": null,
      "outputs": []
    },
    {
      "cell_type": "code",
      "source": [
        "result1_line='jlhjfdhjhdkjjkxfjaaahfhjfjkédfkfdkjfdjhfdjkhhfgfksd'"
      ],
      "metadata": {
        "id": "70Jw5TPw80RH"
      },
      "execution_count": null,
      "outputs": []
    },
    {
      "cell_type": "code",
      "source": [
        "result2_line='jlhjfdhjhdkjjkxfjaaahfdgdfgfhjfjkédfkfdkjfdjhfdjkhhfgfk'"
      ],
      "metadata": {
        "id": "vDs72u-V9Bj7"
      },
      "execution_count": null,
      "outputs": []
    },
    {
      "cell_type": "code",
      "source": [
        "result3_line='jlhjfdhjhdkjjkxfjaadsdqahfhjfjkédfkfdkjfdjhfdjkhhfgfk'"
      ],
      "metadata": {
        "id": "84CnJiZx9Bpq"
      },
      "execution_count": null,
      "outputs": []
    },
    {
      "cell_type": "code",
      "source": [
        "result_line='jlhjfdhjhdkjjkxfjaaahfhjfjkéd     fkfdkjfdjhfdjkhhfgfk'"
      ],
      "metadata": {
        "id": "GwVfYZKN9Btp"
      },
      "execution_count": null,
      "outputs": []
    },
    {
      "cell_type": "code",
      "source": [
        "dict3=get_size_line(path_file, result1_line)"
      ],
      "metadata": {
        "id": "pXRMLfE981oi"
      },
      "execution_count": null,
      "outputs": []
    },
    {
      "cell_type": "code",
      "source": [
        "table_of_dict (dict3)"
      ],
      "metadata": {
        "colab": {
          "base_uri": "https://localhost:8080/"
        },
        "id": "L2r9Gqdk9Ou6",
        "outputId": "eacdf633-09e1-4623-d917-4ad3c5fad92e"
      },
      "execution_count": null,
      "outputs": [
        {
          "output_type": "execute_result",
          "data": {
            "text/plain": [
              "[]"
            ]
          },
          "metadata": {},
          "execution_count": 238
        }
      ]
    },
    {
      "cell_type": "code",
      "source": [
        "table_of_dict (dict2)"
      ],
      "metadata": {
        "colab": {
          "base_uri": "https://localhost:8080/"
        },
        "id": "y3_GVDpOrows",
        "outputId": "ec7eaaa3-026c-408d-cab9-40408d232958"
      },
      "execution_count": null,
      "outputs": [
        {
          "output_type": "execute_result",
          "data": {
            "text/plain": [
              "[{'longeur': 33.32868957519531, 'taille': 11},\n",
              " {'longeur': 78.79051055908204, 'taille': 26},\n",
              " {'longeur': 24.218442535400392, 'taille': 8},\n",
              " {'longeur': 90.54648056030274, 'taille': 30},\n",
              " {'longeur': 88.01795501708985, 'taille': 29},\n",
              " {'longeur': 45.38624649047851, 'taille': 15},\n",
              " {'longeur': 39.24811477661134, 'taille': 13},\n",
              " {'longeur': 102.77784729003908, 'taille': 34},\n",
              " {'longeur': 21.30561065673828, 'taille': 7},\n",
              " {'longeur': 96.86442871093752, 'taille': 32},\n",
              " {'longeur': 84.74450912475587, 'taille': 28},\n",
              " {'longeur': 30.12888412475586, 'taille': 10},\n",
              " {'longeur': 60.739629364013666, 'taille': 20},\n",
              " {'longeur': 93.73793792724608, 'taille': 31},\n",
              " {'longeur': 69.63941726684571, 'taille': 23},\n",
              " {'longeur': 75.65182189941406, 'taille': 25},\n",
              " {'longeur': 63.55533447265624, 'taille': 21},\n",
              " {'longeur': 108.99766693115234, 'taille': 36},\n",
              " {'longeur': 27.17489013671875, 'taille': 9},\n",
              " {'longeur': 66.4884422302246, 'taille': 22},\n",
              " {'longeur': 42.412873077392575, 'taille': 14},\n",
              " {'longeur': 99.77183685302734, 'taille': 33},\n",
              " {'longeur': 57.39886169433594, 'taille': 19},\n",
              " {'longeur': 48.38445205688477, 'taille': 16},\n",
              " {'longeur': 105.93939819335938, 'taille': 35},\n",
              " {'longeur': 36.33257827758789, 'taille': 12},\n",
              " {'longeur': 54.49871520996094, 'taille': 18},\n",
              " {'longeur': 72.75856094360353, 'taille': 24},\n",
              " {'longeur': 51.363037872314464, 'taille': 17},\n",
              " {'longeur': 81.74816665649413, 'taille': 27}]"
            ]
          },
          "metadata": {},
          "execution_count": 239
        }
      ]
    },
    {
      "cell_type": "code",
      "source": [
        "t"
      ],
      "metadata": {
        "id": "owiI2S0vuRvC"
      },
      "execution_count": null,
      "outputs": []
    }
  ]
}