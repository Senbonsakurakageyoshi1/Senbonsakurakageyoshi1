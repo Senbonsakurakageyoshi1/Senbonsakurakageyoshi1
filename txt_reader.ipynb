{
  "nbformat": 4,
  "nbformat_minor": 0,
  "metadata": {
    "colab": {
      "name": "txt_reader",
      "provenance": [],
      "authorship_tag": "ABX9TyPcFnu17zthN4kKmjaOhaDf",
      "include_colab_link": true
    },
    "kernelspec": {
      "name": "python3",
      "display_name": "Python 3"
    },
    "language_info": {
      "name": "python"
    }
  },
  "cells": [
    {
      "cell_type": "markdown",
      "metadata": {
        "id": "view-in-github",
        "colab_type": "text"
      },
      "source": [
        "<a href=\"https://colab.research.google.com/github/Senbonsakurakageyoshi1/Senbonsakurakageyoshi1/blob/main/txt_reader.ipynb\" target=\"_parent\"><img src=\"https://colab.research.google.com/assets/colab-badge.svg\" alt=\"Open In Colab\"/></a>"
      ]
    },
    {
      "cell_type": "code",
      "source": [
        "import json"
      ],
      "metadata": {
        "id": "Ztypl-6Qpm4A"
      },
      "execution_count": 14,
      "outputs": []
    },
    {
      "cell_type": "code",
      "source": [
        "!wget https://filesamples.com/samples/document/txt/sample3.txt"
      ],
      "metadata": {
        "colab": {
          "base_uri": "https://localhost:8080/"
        },
        "id": "RLgK1yZcj_cf",
        "outputId": "5844076e-c7e9-478b-ee5e-928afd8a89cd"
      },
      "execution_count": 2,
      "outputs": [
        {
          "output_type": "stream",
          "name": "stdout",
          "text": [
            "--2022-06-27 09:52:40--  https://filesamples.com/samples/document/txt/sample3.txt\n",
            "Resolving filesamples.com (filesamples.com)... 172.67.178.244, 104.21.17.252, 2606:4700:3035::6815:11fc, ...\n",
            "Connecting to filesamples.com (filesamples.com)|172.67.178.244|:443... connected.\n",
            "HTTP request sent, awaiting response... 200 OK\n",
            "Length: unspecified [text/plain]\n",
            "Saving to: ‘sample3.txt’\n",
            "\n",
            "\rsample3.txt             [<=>                 ]       0  --.-KB/s               \rsample3.txt             [ <=>                ]   3.46K  --.-KB/s    in 0s      \n",
            "\n",
            "2022-06-27 09:52:40 (31.1 MB/s) - ‘sample3.txt’ saved [3541]\n",
            "\n"
          ]
        }
      ]
    },
    {
      "cell_type": "code",
      "source": [
        "path = '/content/sample3.txt'"
      ],
      "metadata": {
        "id": "mEqi5FPukKdz"
      },
      "execution_count": 3,
      "outputs": []
    },
    {
      "cell_type": "code",
      "execution_count": 19,
      "metadata": {
        "id": "hM7X04PCW4vb"
      },
      "outputs": [],
      "source": [
        "def txt_reader(path):\n",
        "  datas=[]\n",
        "  data={}\n",
        "  id_line=0\n",
        "  with open(path) as f:\n",
        "    lines = f.readlines()\n",
        "    for line in lines :\n",
        "      \n",
        "      data[id_line]=line\n",
        "      datas.append({id_line:line})\n",
        "      id_line+=1\n",
        "    \n",
        "    return datas\n",
        " \n",
        "\n"
      ]
    },
    {
      "cell_type": "code",
      "source": [
        "print(txt_reader(path))"
      ],
      "metadata": {
        "colab": {
          "base_uri": "https://localhost:8080/"
        },
        "id": "Uf5yEQu1kWWG",
        "outputId": "90e7419f-858a-4878-b7f1-f3385ff24793"
      },
      "execution_count": 21,
      "outputs": [
        {
          "output_type": "stream",
          "name": "stdout",
          "text": [
            "[{0: 'Quod equidem non reprehendo;\\n'}, {1: 'Lorem ipsum dolor sit amet, consectetur adipiscing elit. Quibus natura iure responderit non esse verum aliunde finem beate vivendi, a se principia rei gerendae peti; Quae enim adhuc protulisti, popularia sunt, ego autem a te elegantiora desidero. Duo Reges: constructio interrete. Tum Lucius: Mihi vero ista valde probata sunt, quod item fratri puto. Bestiarum vero nullum iudicium puto. Nihil enim iam habes, quod ad corpus referas; Deinde prima illa, quae in congressu solemus: Quid tu, inquit, huc? Et homini, qui ceteris animantibus plurimum praestat, praecipue a natura nihil datum esse dicemus?\\n'}, {2: '\\n'}, {3: 'Iam id ipsum absurdum, maximum malum neglegi. Quod ea non occurrentia fingunt, vincunt Aristonem; Atqui perspicuum est hominem e corpore animoque constare, cum primae sint animi partes, secundae corporis. Fieri, inquam, Triari, nullo pacto potest, ut non dicas, quid non probes eius, a quo dissentias. Equidem e Cn. An dubium est, quin virtus ita maximam partem optineat in rebus humanis, ut reliquas obruat?\\n'}, {4: '\\n'}, {5: 'Quis istum dolorem timet?\\n'}, {6: 'Summus dolor plures dies manere non potest? Dicet pro me ipsa virtus nec dubitabit isti vestro beato M. Tubulum fuisse, qua illum, cuius is condemnatus est rogatione, P. Quod si ita sit, cur opera philosophiae sit danda nescio.\\n'}, {7: '\\n'}, {8: 'Ex eorum enim scriptis et institutis cum omnis doctrina liberalis, omnis historia.\\n'}, {9: 'Quod si ita est, sequitur id ipsum, quod te velle video, omnes semper beatos esse sapientes. Cum enim fertur quasi torrens oratio, quamvis multa cuiusque modi rapiat, nihil tamen teneas, nihil apprehendas, nusquam orationem rapidam coerceas. Ita redarguitur ipse a sese, convincunturque scripta eius probitate ipsius ac moribus. At quanta conantur! Mundum hunc omnem oppidum esse nostrum! Incendi igitur eos, qui audiunt, vides. Vide, ne magis, inquam, tuum fuerit, cum re idem tibi, quod mihi, videretur, non nova te rebus nomina inponere. Qui-vere falsone, quaerere mittimus-dicitur oculis se privasse; Si ista mala sunt, in quae potest incidere sapiens, sapientem esse non esse ad beate vivendum satis. At vero si ad vitem sensus accesserit, ut appetitum quendam habeat et per se ipsa moveatur, quid facturam putas?\\n'}, {10: '\\n'}, {11: 'Quem si tenueris, non modo meum Ciceronem, sed etiam me ipsum abducas licebit.\\n'}, {12: 'Stulti autem malorum memoria torquentur, sapientes bona praeterita grata recordatione renovata delectant.\\n'}, {13: 'Esse enim quam vellet iniquus iustus poterat inpune.\\n'}, {14: 'Quae autem natura suae primae institutionis oblita est?\\n'}, {15: 'Verum tamen cum de rebus grandioribus dicas, ipsae res verba rapiunt;\\n'}, {16: 'Hoc est non modo cor non habere, sed ne palatum quidem.\\n'}, {17: 'Voluptatem cum summum bonum diceret, primum in eo ipso parum vidit, deinde hoc quoque alienum; Sed tu istuc dixti bene Latine, parum plane. Nam haec ipsa mihi erunt in promptu, quae modo audivi, nec ante aggrediar, quam te ab istis, quos dicis, instructum videro. Fatebuntur Stoici haec omnia dicta esse praeclare, neque eam causam Zenoni desciscendi fuisse. Non autem hoc: igitur ne illud quidem. Ratio quidem vestra sic cogit. Cum audissem Antiochum, Brute, ut solebam, cum M. An quod ita callida est, ut optime possit architectari voluptates?\\n'}, {18: '\\n'}, {19: 'Idemne, quod iucunde?\\n'}, {20: 'Haec mihi videtur delicatior, ut ita dicam, molliorque ratio, quam virtutis vis gravitasque postulat. Sed quoniam et advesperascit et mihi ad villam revertendum est, nunc quidem hactenus; Cuius ad naturam apta ratio vera illa et summa lex a philosophis dicitur. Neque solum ea communia, verum etiam paria esse dixerunt. Sed nunc, quod agimus; A mene tu?'}]\n"
          ]
        }
      ]
    },
    {
      "cell_type": "code",
      "source": [
        "json_object = json.dumps(txt_reader(path), indent = 4) \n",
        "print(json_object)"
      ],
      "metadata": {
        "colab": {
          "base_uri": "https://localhost:8080/"
        },
        "id": "KXuim4CzpwpJ",
        "outputId": "455d79f0-8216-45f2-fd98-75812267a95a"
      },
      "execution_count": 20,
      "outputs": [
        {
          "output_type": "stream",
          "name": "stdout",
          "text": [
            "[\n",
            "    {\n",
            "        \"0\": \"Quod equidem non reprehendo;\\n\"\n",
            "    },\n",
            "    {\n",
            "        \"1\": \"Lorem ipsum dolor sit amet, consectetur adipiscing elit. Quibus natura iure responderit non esse verum aliunde finem beate vivendi, a se principia rei gerendae peti; Quae enim adhuc protulisti, popularia sunt, ego autem a te elegantiora desidero. Duo Reges: constructio interrete. Tum Lucius: Mihi vero ista valde probata sunt, quod item fratri puto. Bestiarum vero nullum iudicium puto. Nihil enim iam habes, quod ad corpus referas; Deinde prima illa, quae in congressu solemus: Quid tu, inquit, huc? Et homini, qui ceteris animantibus plurimum praestat, praecipue a natura nihil datum esse dicemus?\\n\"\n",
            "    },\n",
            "    {\n",
            "        \"2\": \"\\n\"\n",
            "    },\n",
            "    {\n",
            "        \"3\": \"Iam id ipsum absurdum, maximum malum neglegi. Quod ea non occurrentia fingunt, vincunt Aristonem; Atqui perspicuum est hominem e corpore animoque constare, cum primae sint animi partes, secundae corporis. Fieri, inquam, Triari, nullo pacto potest, ut non dicas, quid non probes eius, a quo dissentias. Equidem e Cn. An dubium est, quin virtus ita maximam partem optineat in rebus humanis, ut reliquas obruat?\\n\"\n",
            "    },\n",
            "    {\n",
            "        \"4\": \"\\n\"\n",
            "    },\n",
            "    {\n",
            "        \"5\": \"Quis istum dolorem timet?\\n\"\n",
            "    },\n",
            "    {\n",
            "        \"6\": \"Summus dolor plures dies manere non potest? Dicet pro me ipsa virtus nec dubitabit isti vestro beato M. Tubulum fuisse, qua illum, cuius is condemnatus est rogatione, P. Quod si ita sit, cur opera philosophiae sit danda nescio.\\n\"\n",
            "    },\n",
            "    {\n",
            "        \"7\": \"\\n\"\n",
            "    },\n",
            "    {\n",
            "        \"8\": \"Ex eorum enim scriptis et institutis cum omnis doctrina liberalis, omnis historia.\\n\"\n",
            "    },\n",
            "    {\n",
            "        \"9\": \"Quod si ita est, sequitur id ipsum, quod te velle video, omnes semper beatos esse sapientes. Cum enim fertur quasi torrens oratio, quamvis multa cuiusque modi rapiat, nihil tamen teneas, nihil apprehendas, nusquam orationem rapidam coerceas. Ita redarguitur ipse a sese, convincunturque scripta eius probitate ipsius ac moribus. At quanta conantur! Mundum hunc omnem oppidum esse nostrum! Incendi igitur eos, qui audiunt, vides. Vide, ne magis, inquam, tuum fuerit, cum re idem tibi, quod mihi, videretur, non nova te rebus nomina inponere. Qui-vere falsone, quaerere mittimus-dicitur oculis se privasse; Si ista mala sunt, in quae potest incidere sapiens, sapientem esse non esse ad beate vivendum satis. At vero si ad vitem sensus accesserit, ut appetitum quendam habeat et per se ipsa moveatur, quid facturam putas?\\n\"\n",
            "    },\n",
            "    {\n",
            "        \"10\": \"\\n\"\n",
            "    },\n",
            "    {\n",
            "        \"11\": \"Quem si tenueris, non modo meum Ciceronem, sed etiam me ipsum abducas licebit.\\n\"\n",
            "    },\n",
            "    {\n",
            "        \"12\": \"Stulti autem malorum memoria torquentur, sapientes bona praeterita grata recordatione renovata delectant.\\n\"\n",
            "    },\n",
            "    {\n",
            "        \"13\": \"Esse enim quam vellet iniquus iustus poterat inpune.\\n\"\n",
            "    },\n",
            "    {\n",
            "        \"14\": \"Quae autem natura suae primae institutionis oblita est?\\n\"\n",
            "    },\n",
            "    {\n",
            "        \"15\": \"Verum tamen cum de rebus grandioribus dicas, ipsae res verba rapiunt;\\n\"\n",
            "    },\n",
            "    {\n",
            "        \"16\": \"Hoc est non modo cor non habere, sed ne palatum quidem.\\n\"\n",
            "    },\n",
            "    {\n",
            "        \"17\": \"Voluptatem cum summum bonum diceret, primum in eo ipso parum vidit, deinde hoc quoque alienum; Sed tu istuc dixti bene Latine, parum plane. Nam haec ipsa mihi erunt in promptu, quae modo audivi, nec ante aggrediar, quam te ab istis, quos dicis, instructum videro. Fatebuntur Stoici haec omnia dicta esse praeclare, neque eam causam Zenoni desciscendi fuisse. Non autem hoc: igitur ne illud quidem. Ratio quidem vestra sic cogit. Cum audissem Antiochum, Brute, ut solebam, cum M. An quod ita callida est, ut optime possit architectari voluptates?\\n\"\n",
            "    },\n",
            "    {\n",
            "        \"18\": \"\\n\"\n",
            "    },\n",
            "    {\n",
            "        \"19\": \"Idemne, quod iucunde?\\n\"\n",
            "    },\n",
            "    {\n",
            "        \"20\": \"Haec mihi videtur delicatior, ut ita dicam, molliorque ratio, quam virtutis vis gravitasque postulat. Sed quoniam et advesperascit et mihi ad villam revertendum est, nunc quidem hactenus; Cuius ad naturam apta ratio vera illa et summa lex a philosophis dicitur. Neque solum ea communia, verum etiam paria esse dixerunt. Sed nunc, quod agimus; A mene tu?\"\n",
            "    }\n",
            "]\n"
          ]
        }
      ]
    }
  ]
}